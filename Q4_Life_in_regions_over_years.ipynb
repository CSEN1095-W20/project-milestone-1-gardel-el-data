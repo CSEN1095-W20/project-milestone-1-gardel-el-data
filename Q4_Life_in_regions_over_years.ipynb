{
 "cells": [
  {
   "cell_type": "markdown",
   "metadata": {
    "id": "FgA-bYoEMyb3"
   },
   "source": [
    "**Question 4** \n",
    "\n",
    "How does life expectancy per region change over the years?"
   ]
  },
  {
   "cell_type": "markdown",
   "metadata": {
    "id": "YEUHG6sIMuUm"
   },
   "source": [
    "Importing Libraries"
   ]
  },
  {
   "cell_type": "code",
   "execution_count": 4,
   "metadata": {
    "id": "l8XS2-TtMawE"
   },
   "outputs": [],
   "source": [
    "import pandas as pd\n",
    "import numpy as np\n",
    "import matplotlib.pyplot as plt\n",
    "import seaborn as sns"
   ]
  },
  {
   "cell_type": "markdown",
   "metadata": {
    "id": "8tuk_I0INJ1j"
   },
   "source": [
    "Importing countries dataset and life expectancy dataset"
   ]
  },
  {
   "cell_type": "code",
   "execution_count": 5,
   "metadata": {
    "id": "Hswu-XqrNN5o"
   },
   "outputs": [],
   "source": [
    "#Read Data\n",
    "root_path='Cleaned_data/'\n",
    "life_expectancy_df = pd.read_csv(root_path+'Life Expectancy Data.csv')\n",
    "countries_df = pd.read_csv(root_path+'250 Country Data.csv')"
   ]
  },
  {
   "cell_type": "code",
   "execution_count": 6,
   "metadata": {
    "colab": {
     "base_uri": "https://localhost:8080/",
     "height": 406
    },
    "id": "ZW6mPOT9NdSs",
    "outputId": "562bc5d7-f1bb-419a-a61e-7225e4be65e3"
   },
   "outputs": [
    {
     "data": {
      "text/html": [
       "<div>\n",
       "<style scoped>\n",
       "    .dataframe tbody tr th:only-of-type {\n",
       "        vertical-align: middle;\n",
       "    }\n",
       "\n",
       "    .dataframe tbody tr th {\n",
       "        vertical-align: top;\n",
       "    }\n",
       "\n",
       "    .dataframe thead th {\n",
       "        text-align: right;\n",
       "    }\n",
       "</style>\n",
       "<table border=\"1\" class=\"dataframe\">\n",
       "  <thead>\n",
       "    <tr style=\"text-align: right;\">\n",
       "      <th></th>\n",
       "      <th>Unnamed: 0</th>\n",
       "      <th>Unnamed: 0.1</th>\n",
       "      <th>name</th>\n",
       "      <th>region</th>\n",
       "      <th>subregion</th>\n",
       "      <th>population</th>\n",
       "      <th>area</th>\n",
       "    </tr>\n",
       "  </thead>\n",
       "  <tbody>\n",
       "    <tr>\n",
       "      <th>0</th>\n",
       "      <td>0</td>\n",
       "      <td>0</td>\n",
       "      <td>Afghanistan</td>\n",
       "      <td>Asia</td>\n",
       "      <td>Southern Asia</td>\n",
       "      <td>27657145</td>\n",
       "      <td>652230.0</td>\n",
       "    </tr>\n",
       "    <tr>\n",
       "      <th>1</th>\n",
       "      <td>1</td>\n",
       "      <td>1</td>\n",
       "      <td>Åland Islands</td>\n",
       "      <td>Europe</td>\n",
       "      <td>Northern Europe</td>\n",
       "      <td>28875</td>\n",
       "      <td>1580.0</td>\n",
       "    </tr>\n",
       "    <tr>\n",
       "      <th>2</th>\n",
       "      <td>2</td>\n",
       "      <td>2</td>\n",
       "      <td>Albania</td>\n",
       "      <td>Europe</td>\n",
       "      <td>Southern Europe</td>\n",
       "      <td>2886026</td>\n",
       "      <td>28748.0</td>\n",
       "    </tr>\n",
       "    <tr>\n",
       "      <th>3</th>\n",
       "      <td>3</td>\n",
       "      <td>3</td>\n",
       "      <td>Algeria</td>\n",
       "      <td>Africa</td>\n",
       "      <td>Northern Africa</td>\n",
       "      <td>40400000</td>\n",
       "      <td>2381741.0</td>\n",
       "    </tr>\n",
       "    <tr>\n",
       "      <th>4</th>\n",
       "      <td>4</td>\n",
       "      <td>4</td>\n",
       "      <td>American Samoa</td>\n",
       "      <td>Oceania</td>\n",
       "      <td>Polynesia</td>\n",
       "      <td>57100</td>\n",
       "      <td>199.0</td>\n",
       "    </tr>\n",
       "    <tr>\n",
       "      <th>...</th>\n",
       "      <td>...</td>\n",
       "      <td>...</td>\n",
       "      <td>...</td>\n",
       "      <td>...</td>\n",
       "      <td>...</td>\n",
       "      <td>...</td>\n",
       "      <td>...</td>\n",
       "    </tr>\n",
       "    <tr>\n",
       "      <th>231</th>\n",
       "      <td>231</td>\n",
       "      <td>245</td>\n",
       "      <td>Wallis and Futuna</td>\n",
       "      <td>Oceania</td>\n",
       "      <td>Polynesia</td>\n",
       "      <td>11750</td>\n",
       "      <td>142.0</td>\n",
       "    </tr>\n",
       "    <tr>\n",
       "      <th>232</th>\n",
       "      <td>232</td>\n",
       "      <td>246</td>\n",
       "      <td>Western Sahara</td>\n",
       "      <td>Africa</td>\n",
       "      <td>Northern Africa</td>\n",
       "      <td>510713</td>\n",
       "      <td>266000.0</td>\n",
       "    </tr>\n",
       "    <tr>\n",
       "      <th>233</th>\n",
       "      <td>233</td>\n",
       "      <td>247</td>\n",
       "      <td>Yemen</td>\n",
       "      <td>Asia</td>\n",
       "      <td>Western Asia</td>\n",
       "      <td>27478000</td>\n",
       "      <td>527968.0</td>\n",
       "    </tr>\n",
       "    <tr>\n",
       "      <th>234</th>\n",
       "      <td>234</td>\n",
       "      <td>248</td>\n",
       "      <td>Zambia</td>\n",
       "      <td>Africa</td>\n",
       "      <td>Eastern Africa</td>\n",
       "      <td>15933883</td>\n",
       "      <td>752612.0</td>\n",
       "    </tr>\n",
       "    <tr>\n",
       "      <th>235</th>\n",
       "      <td>235</td>\n",
       "      <td>249</td>\n",
       "      <td>Zimbabwe</td>\n",
       "      <td>Africa</td>\n",
       "      <td>Eastern Africa</td>\n",
       "      <td>14240168</td>\n",
       "      <td>390757.0</td>\n",
       "    </tr>\n",
       "  </tbody>\n",
       "</table>\n",
       "<p>236 rows × 7 columns</p>\n",
       "</div>"
      ],
      "text/plain": [
       "     Unnamed: 0  Unnamed: 0.1               name   region        subregion  \\\n",
       "0             0             0        Afghanistan     Asia    Southern Asia   \n",
       "1             1             1      Åland Islands   Europe  Northern Europe   \n",
       "2             2             2            Albania   Europe  Southern Europe   \n",
       "3             3             3            Algeria   Africa  Northern Africa   \n",
       "4             4             4     American Samoa  Oceania        Polynesia   \n",
       "..          ...           ...                ...      ...              ...   \n",
       "231         231           245  Wallis and Futuna  Oceania        Polynesia   \n",
       "232         232           246     Western Sahara   Africa  Northern Africa   \n",
       "233         233           247              Yemen     Asia     Western Asia   \n",
       "234         234           248             Zambia   Africa   Eastern Africa   \n",
       "235         235           249           Zimbabwe   Africa   Eastern Africa   \n",
       "\n",
       "     population       area  \n",
       "0      27657145   652230.0  \n",
       "1         28875     1580.0  \n",
       "2       2886026    28748.0  \n",
       "3      40400000  2381741.0  \n",
       "4         57100      199.0  \n",
       "..          ...        ...  \n",
       "231       11750      142.0  \n",
       "232      510713   266000.0  \n",
       "233    27478000   527968.0  \n",
       "234    15933883   752612.0  \n",
       "235    14240168   390757.0  \n",
       "\n",
       "[236 rows x 7 columns]"
      ]
     },
     "execution_count": 6,
     "metadata": {},
     "output_type": "execute_result"
    }
   ],
   "source": [
    "countries_df"
   ]
  },
  {
   "cell_type": "code",
   "execution_count": 7,
   "metadata": {
    "colab": {
     "base_uri": "https://localhost:8080/",
     "height": 523
    },
    "id": "W-AT8m3RNe5U",
    "outputId": "d8b1bfa2-18ad-4312-abb3-9ded4b9ca613"
   },
   "outputs": [
    {
     "data": {
      "text/html": [
       "<div>\n",
       "<style scoped>\n",
       "    .dataframe tbody tr th:only-of-type {\n",
       "        vertical-align: middle;\n",
       "    }\n",
       "\n",
       "    .dataframe tbody tr th {\n",
       "        vertical-align: top;\n",
       "    }\n",
       "\n",
       "    .dataframe thead th {\n",
       "        text-align: right;\n",
       "    }\n",
       "</style>\n",
       "<table border=\"1\" class=\"dataframe\">\n",
       "  <thead>\n",
       "    <tr style=\"text-align: right;\">\n",
       "      <th></th>\n",
       "      <th>Unnamed: 0</th>\n",
       "      <th>Country</th>\n",
       "      <th>Year</th>\n",
       "      <th>Status</th>\n",
       "      <th>HIV/AIDS Deaths</th>\n",
       "      <th>Disease</th>\n",
       "      <th>Life expectancy</th>\n",
       "      <th>Adult Mortality</th>\n",
       "      <th>Income composition of resources</th>\n",
       "      <th>Immunization coverage</th>\n",
       "      <th>GDP</th>\n",
       "      <th>Schooling</th>\n",
       "    </tr>\n",
       "  </thead>\n",
       "  <tbody>\n",
       "    <tr>\n",
       "      <th>0</th>\n",
       "      <td>0</td>\n",
       "      <td>Afghanistan</td>\n",
       "      <td>2015</td>\n",
       "      <td>Developing</td>\n",
       "      <td>0.1</td>\n",
       "      <td>Hepatitis B</td>\n",
       "      <td>65.0</td>\n",
       "      <td>263.0</td>\n",
       "      <td>0.479</td>\n",
       "      <td>65.0</td>\n",
       "      <td>584.259210</td>\n",
       "      <td>10.1</td>\n",
       "    </tr>\n",
       "    <tr>\n",
       "      <th>1</th>\n",
       "      <td>1</td>\n",
       "      <td>Afghanistan</td>\n",
       "      <td>2014</td>\n",
       "      <td>Developing</td>\n",
       "      <td>0.1</td>\n",
       "      <td>Hepatitis B</td>\n",
       "      <td>59.9</td>\n",
       "      <td>271.0</td>\n",
       "      <td>0.476</td>\n",
       "      <td>62.0</td>\n",
       "      <td>612.696514</td>\n",
       "      <td>10.0</td>\n",
       "    </tr>\n",
       "    <tr>\n",
       "      <th>2</th>\n",
       "      <td>2</td>\n",
       "      <td>Afghanistan</td>\n",
       "      <td>2013</td>\n",
       "      <td>Developing</td>\n",
       "      <td>0.1</td>\n",
       "      <td>Hepatitis B</td>\n",
       "      <td>59.9</td>\n",
       "      <td>268.0</td>\n",
       "      <td>0.470</td>\n",
       "      <td>64.0</td>\n",
       "      <td>631.744976</td>\n",
       "      <td>9.9</td>\n",
       "    </tr>\n",
       "    <tr>\n",
       "      <th>3</th>\n",
       "      <td>3</td>\n",
       "      <td>Afghanistan</td>\n",
       "      <td>2012</td>\n",
       "      <td>Developing</td>\n",
       "      <td>0.1</td>\n",
       "      <td>Hepatitis B</td>\n",
       "      <td>59.5</td>\n",
       "      <td>272.0</td>\n",
       "      <td>0.463</td>\n",
       "      <td>67.0</td>\n",
       "      <td>669.959000</td>\n",
       "      <td>9.8</td>\n",
       "    </tr>\n",
       "    <tr>\n",
       "      <th>4</th>\n",
       "      <td>4</td>\n",
       "      <td>Afghanistan</td>\n",
       "      <td>2011</td>\n",
       "      <td>Developing</td>\n",
       "      <td>0.1</td>\n",
       "      <td>Hepatitis B</td>\n",
       "      <td>59.2</td>\n",
       "      <td>275.0</td>\n",
       "      <td>0.454</td>\n",
       "      <td>68.0</td>\n",
       "      <td>63.537231</td>\n",
       "      <td>9.5</td>\n",
       "    </tr>\n",
       "    <tr>\n",
       "      <th>...</th>\n",
       "      <td>...</td>\n",
       "      <td>...</td>\n",
       "      <td>...</td>\n",
       "      <td>...</td>\n",
       "      <td>...</td>\n",
       "      <td>...</td>\n",
       "      <td>...</td>\n",
       "      <td>...</td>\n",
       "      <td>...</td>\n",
       "      <td>...</td>\n",
       "      <td>...</td>\n",
       "      <td>...</td>\n",
       "    </tr>\n",
       "    <tr>\n",
       "      <th>8809</th>\n",
       "      <td>8809</td>\n",
       "      <td>Zimbabwe</td>\n",
       "      <td>2004</td>\n",
       "      <td>Developing</td>\n",
       "      <td>33.6</td>\n",
       "      <td>Diphtheria</td>\n",
       "      <td>44.3</td>\n",
       "      <td>723.0</td>\n",
       "      <td>0.407</td>\n",
       "      <td>65.0</td>\n",
       "      <td>454.366654</td>\n",
       "      <td>9.2</td>\n",
       "    </tr>\n",
       "    <tr>\n",
       "      <th>8810</th>\n",
       "      <td>8810</td>\n",
       "      <td>Zimbabwe</td>\n",
       "      <td>2003</td>\n",
       "      <td>Developing</td>\n",
       "      <td>36.7</td>\n",
       "      <td>Diphtheria</td>\n",
       "      <td>44.5</td>\n",
       "      <td>715.0</td>\n",
       "      <td>0.418</td>\n",
       "      <td>68.0</td>\n",
       "      <td>453.351155</td>\n",
       "      <td>9.5</td>\n",
       "    </tr>\n",
       "    <tr>\n",
       "      <th>8811</th>\n",
       "      <td>8811</td>\n",
       "      <td>Zimbabwe</td>\n",
       "      <td>2002</td>\n",
       "      <td>Developing</td>\n",
       "      <td>39.8</td>\n",
       "      <td>Diphtheria</td>\n",
       "      <td>44.8</td>\n",
       "      <td>73.0</td>\n",
       "      <td>0.427</td>\n",
       "      <td>71.0</td>\n",
       "      <td>57.348340</td>\n",
       "      <td>10.0</td>\n",
       "    </tr>\n",
       "    <tr>\n",
       "      <th>8812</th>\n",
       "      <td>8812</td>\n",
       "      <td>Zimbabwe</td>\n",
       "      <td>2001</td>\n",
       "      <td>Developing</td>\n",
       "      <td>42.1</td>\n",
       "      <td>Diphtheria</td>\n",
       "      <td>45.3</td>\n",
       "      <td>686.0</td>\n",
       "      <td>0.427</td>\n",
       "      <td>75.0</td>\n",
       "      <td>548.587312</td>\n",
       "      <td>9.8</td>\n",
       "    </tr>\n",
       "    <tr>\n",
       "      <th>8813</th>\n",
       "      <td>8813</td>\n",
       "      <td>Zimbabwe</td>\n",
       "      <td>2000</td>\n",
       "      <td>Developing</td>\n",
       "      <td>43.5</td>\n",
       "      <td>Diphtheria</td>\n",
       "      <td>46.0</td>\n",
       "      <td>665.0</td>\n",
       "      <td>0.434</td>\n",
       "      <td>78.0</td>\n",
       "      <td>547.358879</td>\n",
       "      <td>9.8</td>\n",
       "    </tr>\n",
       "  </tbody>\n",
       "</table>\n",
       "<p>8814 rows × 12 columns</p>\n",
       "</div>"
      ],
      "text/plain": [
       "      Unnamed: 0      Country  Year      Status  HIV/AIDS Deaths      Disease  \\\n",
       "0              0  Afghanistan  2015  Developing              0.1  Hepatitis B   \n",
       "1              1  Afghanistan  2014  Developing              0.1  Hepatitis B   \n",
       "2              2  Afghanistan  2013  Developing              0.1  Hepatitis B   \n",
       "3              3  Afghanistan  2012  Developing              0.1  Hepatitis B   \n",
       "4              4  Afghanistan  2011  Developing              0.1  Hepatitis B   \n",
       "...          ...          ...   ...         ...              ...          ...   \n",
       "8809        8809     Zimbabwe  2004  Developing             33.6   Diphtheria   \n",
       "8810        8810     Zimbabwe  2003  Developing             36.7   Diphtheria   \n",
       "8811        8811     Zimbabwe  2002  Developing             39.8   Diphtheria   \n",
       "8812        8812     Zimbabwe  2001  Developing             42.1   Diphtheria   \n",
       "8813        8813     Zimbabwe  2000  Developing             43.5   Diphtheria   \n",
       "\n",
       "      Life expectancy  Adult Mortality  Income composition of resources  \\\n",
       "0                65.0            263.0                            0.479   \n",
       "1                59.9            271.0                            0.476   \n",
       "2                59.9            268.0                            0.470   \n",
       "3                59.5            272.0                            0.463   \n",
       "4                59.2            275.0                            0.454   \n",
       "...               ...              ...                              ...   \n",
       "8809             44.3            723.0                            0.407   \n",
       "8810             44.5            715.0                            0.418   \n",
       "8811             44.8             73.0                            0.427   \n",
       "8812             45.3            686.0                            0.427   \n",
       "8813             46.0            665.0                            0.434   \n",
       "\n",
       "      Immunization coverage         GDP  Schooling  \n",
       "0                      65.0  584.259210       10.1  \n",
       "1                      62.0  612.696514       10.0  \n",
       "2                      64.0  631.744976        9.9  \n",
       "3                      67.0  669.959000        9.8  \n",
       "4                      68.0   63.537231        9.5  \n",
       "...                     ...         ...        ...  \n",
       "8809                   65.0  454.366654        9.2  \n",
       "8810                   68.0  453.351155        9.5  \n",
       "8811                   71.0   57.348340       10.0  \n",
       "8812                   75.0  548.587312        9.8  \n",
       "8813                   78.0  547.358879        9.8  \n",
       "\n",
       "[8814 rows x 12 columns]"
      ]
     },
     "execution_count": 7,
     "metadata": {},
     "output_type": "execute_result"
    }
   ],
   "source": [
    "life_expectancy_df"
   ]
  },
  {
   "cell_type": "markdown",
   "metadata": {
    "id": "xRc1T_I4OYbv"
   },
   "source": [
    "Keeping only the columns related to our question in both datasets"
   ]
  },
  {
   "cell_type": "code",
   "execution_count": 8,
   "metadata": {
    "id": "-f5xuOk1NlAl"
   },
   "outputs": [],
   "source": [
    "life_expectancy_df = life_expectancy_df[['Country', 'Life expectancy', 'Year']]\n",
    "countries_df = countries_df[['name', 'region']]"
   ]
  },
  {
   "cell_type": "code",
   "execution_count": 9,
   "metadata": {
    "colab": {
     "base_uri": "https://localhost:8080/",
     "height": 406
    },
    "id": "mDTszE0jO_k6",
    "outputId": "a3fd8ee4-fb0b-47ae-cae3-d529b68b2fcd"
   },
   "outputs": [
    {
     "data": {
      "text/html": [
       "<div>\n",
       "<style scoped>\n",
       "    .dataframe tbody tr th:only-of-type {\n",
       "        vertical-align: middle;\n",
       "    }\n",
       "\n",
       "    .dataframe tbody tr th {\n",
       "        vertical-align: top;\n",
       "    }\n",
       "\n",
       "    .dataframe thead th {\n",
       "        text-align: right;\n",
       "    }\n",
       "</style>\n",
       "<table border=\"1\" class=\"dataframe\">\n",
       "  <thead>\n",
       "    <tr style=\"text-align: right;\">\n",
       "      <th></th>\n",
       "      <th>Country</th>\n",
       "      <th>Life expectancy</th>\n",
       "      <th>Year</th>\n",
       "    </tr>\n",
       "  </thead>\n",
       "  <tbody>\n",
       "    <tr>\n",
       "      <th>0</th>\n",
       "      <td>Afghanistan</td>\n",
       "      <td>65.0</td>\n",
       "      <td>2015</td>\n",
       "    </tr>\n",
       "    <tr>\n",
       "      <th>1</th>\n",
       "      <td>Afghanistan</td>\n",
       "      <td>59.9</td>\n",
       "      <td>2014</td>\n",
       "    </tr>\n",
       "    <tr>\n",
       "      <th>2</th>\n",
       "      <td>Afghanistan</td>\n",
       "      <td>59.9</td>\n",
       "      <td>2013</td>\n",
       "    </tr>\n",
       "    <tr>\n",
       "      <th>3</th>\n",
       "      <td>Afghanistan</td>\n",
       "      <td>59.5</td>\n",
       "      <td>2012</td>\n",
       "    </tr>\n",
       "    <tr>\n",
       "      <th>4</th>\n",
       "      <td>Afghanistan</td>\n",
       "      <td>59.2</td>\n",
       "      <td>2011</td>\n",
       "    </tr>\n",
       "    <tr>\n",
       "      <th>...</th>\n",
       "      <td>...</td>\n",
       "      <td>...</td>\n",
       "      <td>...</td>\n",
       "    </tr>\n",
       "    <tr>\n",
       "      <th>8809</th>\n",
       "      <td>Zimbabwe</td>\n",
       "      <td>44.3</td>\n",
       "      <td>2004</td>\n",
       "    </tr>\n",
       "    <tr>\n",
       "      <th>8810</th>\n",
       "      <td>Zimbabwe</td>\n",
       "      <td>44.5</td>\n",
       "      <td>2003</td>\n",
       "    </tr>\n",
       "    <tr>\n",
       "      <th>8811</th>\n",
       "      <td>Zimbabwe</td>\n",
       "      <td>44.8</td>\n",
       "      <td>2002</td>\n",
       "    </tr>\n",
       "    <tr>\n",
       "      <th>8812</th>\n",
       "      <td>Zimbabwe</td>\n",
       "      <td>45.3</td>\n",
       "      <td>2001</td>\n",
       "    </tr>\n",
       "    <tr>\n",
       "      <th>8813</th>\n",
       "      <td>Zimbabwe</td>\n",
       "      <td>46.0</td>\n",
       "      <td>2000</td>\n",
       "    </tr>\n",
       "  </tbody>\n",
       "</table>\n",
       "<p>8814 rows × 3 columns</p>\n",
       "</div>"
      ],
      "text/plain": [
       "          Country  Life expectancy  Year\n",
       "0     Afghanistan             65.0  2015\n",
       "1     Afghanistan             59.9  2014\n",
       "2     Afghanistan             59.9  2013\n",
       "3     Afghanistan             59.5  2012\n",
       "4     Afghanistan             59.2  2011\n",
       "...           ...              ...   ...\n",
       "8809     Zimbabwe             44.3  2004\n",
       "8810     Zimbabwe             44.5  2003\n",
       "8811     Zimbabwe             44.8  2002\n",
       "8812     Zimbabwe             45.3  2001\n",
       "8813     Zimbabwe             46.0  2000\n",
       "\n",
       "[8814 rows x 3 columns]"
      ]
     },
     "execution_count": 9,
     "metadata": {},
     "output_type": "execute_result"
    }
   ],
   "source": [
    "life_expectancy_df"
   ]
  },
  {
   "cell_type": "code",
   "execution_count": 10,
   "metadata": {
    "colab": {
     "base_uri": "https://localhost:8080/",
     "height": 406
    },
    "id": "yae3s2NCPAZa",
    "outputId": "a4535369-ab32-42d8-dc56-1195e342e694"
   },
   "outputs": [
    {
     "data": {
      "text/html": [
       "<div>\n",
       "<style scoped>\n",
       "    .dataframe tbody tr th:only-of-type {\n",
       "        vertical-align: middle;\n",
       "    }\n",
       "\n",
       "    .dataframe tbody tr th {\n",
       "        vertical-align: top;\n",
       "    }\n",
       "\n",
       "    .dataframe thead th {\n",
       "        text-align: right;\n",
       "    }\n",
       "</style>\n",
       "<table border=\"1\" class=\"dataframe\">\n",
       "  <thead>\n",
       "    <tr style=\"text-align: right;\">\n",
       "      <th></th>\n",
       "      <th>name</th>\n",
       "      <th>region</th>\n",
       "    </tr>\n",
       "  </thead>\n",
       "  <tbody>\n",
       "    <tr>\n",
       "      <th>0</th>\n",
       "      <td>Afghanistan</td>\n",
       "      <td>Asia</td>\n",
       "    </tr>\n",
       "    <tr>\n",
       "      <th>1</th>\n",
       "      <td>Åland Islands</td>\n",
       "      <td>Europe</td>\n",
       "    </tr>\n",
       "    <tr>\n",
       "      <th>2</th>\n",
       "      <td>Albania</td>\n",
       "      <td>Europe</td>\n",
       "    </tr>\n",
       "    <tr>\n",
       "      <th>3</th>\n",
       "      <td>Algeria</td>\n",
       "      <td>Africa</td>\n",
       "    </tr>\n",
       "    <tr>\n",
       "      <th>4</th>\n",
       "      <td>American Samoa</td>\n",
       "      <td>Oceania</td>\n",
       "    </tr>\n",
       "    <tr>\n",
       "      <th>...</th>\n",
       "      <td>...</td>\n",
       "      <td>...</td>\n",
       "    </tr>\n",
       "    <tr>\n",
       "      <th>231</th>\n",
       "      <td>Wallis and Futuna</td>\n",
       "      <td>Oceania</td>\n",
       "    </tr>\n",
       "    <tr>\n",
       "      <th>232</th>\n",
       "      <td>Western Sahara</td>\n",
       "      <td>Africa</td>\n",
       "    </tr>\n",
       "    <tr>\n",
       "      <th>233</th>\n",
       "      <td>Yemen</td>\n",
       "      <td>Asia</td>\n",
       "    </tr>\n",
       "    <tr>\n",
       "      <th>234</th>\n",
       "      <td>Zambia</td>\n",
       "      <td>Africa</td>\n",
       "    </tr>\n",
       "    <tr>\n",
       "      <th>235</th>\n",
       "      <td>Zimbabwe</td>\n",
       "      <td>Africa</td>\n",
       "    </tr>\n",
       "  </tbody>\n",
       "</table>\n",
       "<p>236 rows × 2 columns</p>\n",
       "</div>"
      ],
      "text/plain": [
       "                  name   region\n",
       "0          Afghanistan     Asia\n",
       "1        Åland Islands   Europe\n",
       "2              Albania   Europe\n",
       "3              Algeria   Africa\n",
       "4       American Samoa  Oceania\n",
       "..                 ...      ...\n",
       "231  Wallis and Futuna  Oceania\n",
       "232     Western Sahara   Africa\n",
       "233              Yemen     Asia\n",
       "234             Zambia   Africa\n",
       "235           Zimbabwe   Africa\n",
       "\n",
       "[236 rows x 2 columns]"
      ]
     },
     "execution_count": 10,
     "metadata": {},
     "output_type": "execute_result"
    }
   ],
   "source": [
    "countries_df"
   ]
  },
  {
   "cell_type": "markdown",
   "metadata": {
    "id": "9MAPawyPP4Pr"
   },
   "source": [
    "Checking for null values in both datasets"
   ]
  },
  {
   "cell_type": "code",
   "execution_count": 11,
   "metadata": {
    "colab": {
     "base_uri": "https://localhost:8080/"
    },
    "id": "LkNRxgCwP6po",
    "outputId": "ca684435-2219-43de-db79-d67304f417ea"
   },
   "outputs": [
    {
     "name": "stdout",
     "output_type": "stream",
     "text": [
      "name      0\n",
      "region    0\n",
      "dtype: int64 \n",
      "\n",
      "Country            0\n",
      "Life expectancy    0\n",
      "Year               0\n",
      "dtype: int64\n"
     ]
    }
   ],
   "source": [
    "print(countries_df.isnull().sum() , '\\n')\n",
    "print(life_expectancy_df.isnull().sum())"
   ]
  },
  {
   "cell_type": "markdown",
   "metadata": {
    "id": "1nce_zmRPEYI"
   },
   "source": [
    "Merging the two datasets on the country using a left join"
   ]
  },
  {
   "cell_type": "code",
   "execution_count": 12,
   "metadata": {
    "id": "zbxJguA4PKZh"
   },
   "outputs": [],
   "source": [
    "merged_countries_life = pd.merge(life_expectancy_df, countries_df, left_on=\"Country\", right_on=\"name\", how='left')"
   ]
  },
  {
   "cell_type": "code",
   "execution_count": 13,
   "metadata": {
    "colab": {
     "base_uri": "https://localhost:8080/",
     "height": 406
    },
    "id": "XDG6u1o_PbX2",
    "outputId": "0ad4915c-a2bd-4a1f-cb30-20d48c94f868"
   },
   "outputs": [
    {
     "data": {
      "text/html": [
       "<div>\n",
       "<style scoped>\n",
       "    .dataframe tbody tr th:only-of-type {\n",
       "        vertical-align: middle;\n",
       "    }\n",
       "\n",
       "    .dataframe tbody tr th {\n",
       "        vertical-align: top;\n",
       "    }\n",
       "\n",
       "    .dataframe thead th {\n",
       "        text-align: right;\n",
       "    }\n",
       "</style>\n",
       "<table border=\"1\" class=\"dataframe\">\n",
       "  <thead>\n",
       "    <tr style=\"text-align: right;\">\n",
       "      <th></th>\n",
       "      <th>Country</th>\n",
       "      <th>Life expectancy</th>\n",
       "      <th>Year</th>\n",
       "      <th>name</th>\n",
       "      <th>region</th>\n",
       "    </tr>\n",
       "  </thead>\n",
       "  <tbody>\n",
       "    <tr>\n",
       "      <th>0</th>\n",
       "      <td>Afghanistan</td>\n",
       "      <td>65.0</td>\n",
       "      <td>2015</td>\n",
       "      <td>Afghanistan</td>\n",
       "      <td>Asia</td>\n",
       "    </tr>\n",
       "    <tr>\n",
       "      <th>1</th>\n",
       "      <td>Afghanistan</td>\n",
       "      <td>59.9</td>\n",
       "      <td>2014</td>\n",
       "      <td>Afghanistan</td>\n",
       "      <td>Asia</td>\n",
       "    </tr>\n",
       "    <tr>\n",
       "      <th>2</th>\n",
       "      <td>Afghanistan</td>\n",
       "      <td>59.9</td>\n",
       "      <td>2013</td>\n",
       "      <td>Afghanistan</td>\n",
       "      <td>Asia</td>\n",
       "    </tr>\n",
       "    <tr>\n",
       "      <th>3</th>\n",
       "      <td>Afghanistan</td>\n",
       "      <td>59.5</td>\n",
       "      <td>2012</td>\n",
       "      <td>Afghanistan</td>\n",
       "      <td>Asia</td>\n",
       "    </tr>\n",
       "    <tr>\n",
       "      <th>4</th>\n",
       "      <td>Afghanistan</td>\n",
       "      <td>59.2</td>\n",
       "      <td>2011</td>\n",
       "      <td>Afghanistan</td>\n",
       "      <td>Asia</td>\n",
       "    </tr>\n",
       "    <tr>\n",
       "      <th>...</th>\n",
       "      <td>...</td>\n",
       "      <td>...</td>\n",
       "      <td>...</td>\n",
       "      <td>...</td>\n",
       "      <td>...</td>\n",
       "    </tr>\n",
       "    <tr>\n",
       "      <th>8809</th>\n",
       "      <td>Zimbabwe</td>\n",
       "      <td>44.3</td>\n",
       "      <td>2004</td>\n",
       "      <td>Zimbabwe</td>\n",
       "      <td>Africa</td>\n",
       "    </tr>\n",
       "    <tr>\n",
       "      <th>8810</th>\n",
       "      <td>Zimbabwe</td>\n",
       "      <td>44.5</td>\n",
       "      <td>2003</td>\n",
       "      <td>Zimbabwe</td>\n",
       "      <td>Africa</td>\n",
       "    </tr>\n",
       "    <tr>\n",
       "      <th>8811</th>\n",
       "      <td>Zimbabwe</td>\n",
       "      <td>44.8</td>\n",
       "      <td>2002</td>\n",
       "      <td>Zimbabwe</td>\n",
       "      <td>Africa</td>\n",
       "    </tr>\n",
       "    <tr>\n",
       "      <th>8812</th>\n",
       "      <td>Zimbabwe</td>\n",
       "      <td>45.3</td>\n",
       "      <td>2001</td>\n",
       "      <td>Zimbabwe</td>\n",
       "      <td>Africa</td>\n",
       "    </tr>\n",
       "    <tr>\n",
       "      <th>8813</th>\n",
       "      <td>Zimbabwe</td>\n",
       "      <td>46.0</td>\n",
       "      <td>2000</td>\n",
       "      <td>Zimbabwe</td>\n",
       "      <td>Africa</td>\n",
       "    </tr>\n",
       "  </tbody>\n",
       "</table>\n",
       "<p>8814 rows × 5 columns</p>\n",
       "</div>"
      ],
      "text/plain": [
       "          Country  Life expectancy  Year         name  region\n",
       "0     Afghanistan             65.0  2015  Afghanistan    Asia\n",
       "1     Afghanistan             59.9  2014  Afghanistan    Asia\n",
       "2     Afghanistan             59.9  2013  Afghanistan    Asia\n",
       "3     Afghanistan             59.5  2012  Afghanistan    Asia\n",
       "4     Afghanistan             59.2  2011  Afghanistan    Asia\n",
       "...           ...              ...   ...          ...     ...\n",
       "8809     Zimbabwe             44.3  2004     Zimbabwe  Africa\n",
       "8810     Zimbabwe             44.5  2003     Zimbabwe  Africa\n",
       "8811     Zimbabwe             44.8  2002     Zimbabwe  Africa\n",
       "8812     Zimbabwe             45.3  2001     Zimbabwe  Africa\n",
       "8813     Zimbabwe             46.0  2000     Zimbabwe  Africa\n",
       "\n",
       "[8814 rows x 5 columns]"
      ]
     },
     "execution_count": 13,
     "metadata": {},
     "output_type": "execute_result"
    }
   ],
   "source": [
    "merged_countries_life"
   ]
  },
  {
   "cell_type": "markdown",
   "metadata": {
    "id": "1mvIfTW_QN_e"
   },
   "source": [
    "Checking for null values in the merged dataset and removing the repeated column of country which is \"name\""
   ]
  },
  {
   "cell_type": "code",
   "execution_count": 14,
   "metadata": {
    "colab": {
     "base_uri": "https://localhost:8080/"
    },
    "id": "yfLeVzylPf07",
    "outputId": "2aa8db8a-83ba-400b-a55c-2c023a4f33e7"
   },
   "outputs": [
    {
     "name": "stdout",
     "output_type": "stream",
     "text": [
      "Country              0\n",
      "Life expectancy      0\n",
      "Year                 0\n",
      "region             384\n",
      "dtype: int64\n"
     ]
    }
   ],
   "source": [
    "merged_countries_life = merged_countries_life.drop(columns = ['name'], axis = 1)\n",
    "print(merged_countries_life.isnull().sum())"
   ]
  },
  {
   "cell_type": "markdown",
   "metadata": {
    "id": "zKUJlIIFkgWh"
   },
   "source": [
    "Getting the unique regions in the dataframe"
   ]
  },
  {
   "cell_type": "code",
   "execution_count": 15,
   "metadata": {
    "colab": {
     "base_uri": "https://localhost:8080/"
    },
    "id": "UgxkfhSCWxuy",
    "outputId": "d3f71c0e-f5db-4a4f-d0df-b80b2ab75644"
   },
   "outputs": [
    {
     "data": {
      "text/plain": [
       "array(['Asia', 'Europe', 'Africa', 'Americas', 'Oceania', nan],\n",
       "      dtype=object)"
      ]
     },
     "execution_count": 15,
     "metadata": {},
     "output_type": "execute_result"
    }
   ],
   "source": [
    "merged_countries_life['region'].unique()"
   ]
  },
  {
   "cell_type": "markdown",
   "metadata": {
    "id": "ViB0iDdnQseI"
   },
   "source": [
    "Making a dataframe that contains the rows which have null values in the region from the merged dataframe and reseting index."
   ]
  },
  {
   "cell_type": "code",
   "execution_count": 16,
   "metadata": {
    "colab": {
     "base_uri": "https://localhost:8080/",
     "height": 406
    },
    "id": "F2IQTiorQrn0",
    "outputId": "773baae3-52e2-4204-8051-5831c78b6bd8"
   },
   "outputs": [
    {
     "data": {
      "text/html": [
       "<div>\n",
       "<style scoped>\n",
       "    .dataframe tbody tr th:only-of-type {\n",
       "        vertical-align: middle;\n",
       "    }\n",
       "\n",
       "    .dataframe tbody tr th {\n",
       "        vertical-align: top;\n",
       "    }\n",
       "\n",
       "    .dataframe thead th {\n",
       "        text-align: right;\n",
       "    }\n",
       "</style>\n",
       "<table border=\"1\" class=\"dataframe\">\n",
       "  <thead>\n",
       "    <tr style=\"text-align: right;\">\n",
       "      <th></th>\n",
       "      <th>index</th>\n",
       "      <th>Country</th>\n",
       "      <th>Life expectancy</th>\n",
       "      <th>Year</th>\n",
       "      <th>region</th>\n",
       "    </tr>\n",
       "  </thead>\n",
       "  <tbody>\n",
       "    <tr>\n",
       "      <th>0</th>\n",
       "      <td>2019</td>\n",
       "      <td>Czechia</td>\n",
       "      <td>78.8</td>\n",
       "      <td>2015</td>\n",
       "      <td>NaN</td>\n",
       "    </tr>\n",
       "    <tr>\n",
       "      <th>1</th>\n",
       "      <td>2020</td>\n",
       "      <td>Czechia</td>\n",
       "      <td>78.6</td>\n",
       "      <td>2014</td>\n",
       "      <td>NaN</td>\n",
       "    </tr>\n",
       "    <tr>\n",
       "      <th>2</th>\n",
       "      <td>2021</td>\n",
       "      <td>Czechia</td>\n",
       "      <td>78.2</td>\n",
       "      <td>2013</td>\n",
       "      <td>NaN</td>\n",
       "    </tr>\n",
       "    <tr>\n",
       "      <th>3</th>\n",
       "      <td>2022</td>\n",
       "      <td>Czechia</td>\n",
       "      <td>78.0</td>\n",
       "      <td>2012</td>\n",
       "      <td>NaN</td>\n",
       "    </tr>\n",
       "    <tr>\n",
       "      <th>4</th>\n",
       "      <td>2023</td>\n",
       "      <td>Czechia</td>\n",
       "      <td>77.8</td>\n",
       "      <td>2011</td>\n",
       "      <td>NaN</td>\n",
       "    </tr>\n",
       "    <tr>\n",
       "      <th>...</th>\n",
       "      <td>...</td>\n",
       "      <td>...</td>\n",
       "      <td>...</td>\n",
       "      <td>...</td>\n",
       "      <td>...</td>\n",
       "    </tr>\n",
       "    <tr>\n",
       "      <th>379</th>\n",
       "      <td>8377</td>\n",
       "      <td>United Republic of Tanzania</td>\n",
       "      <td>51.5</td>\n",
       "      <td>2004</td>\n",
       "      <td>NaN</td>\n",
       "    </tr>\n",
       "    <tr>\n",
       "      <th>380</th>\n",
       "      <td>8378</td>\n",
       "      <td>United Republic of Tanzania</td>\n",
       "      <td>58.0</td>\n",
       "      <td>2003</td>\n",
       "      <td>NaN</td>\n",
       "    </tr>\n",
       "    <tr>\n",
       "      <th>381</th>\n",
       "      <td>8379</td>\n",
       "      <td>United Republic of Tanzania</td>\n",
       "      <td>52.0</td>\n",
       "      <td>2002</td>\n",
       "      <td>NaN</td>\n",
       "    </tr>\n",
       "    <tr>\n",
       "      <th>382</th>\n",
       "      <td>8380</td>\n",
       "      <td>United Republic of Tanzania</td>\n",
       "      <td>49.6</td>\n",
       "      <td>2001</td>\n",
       "      <td>NaN</td>\n",
       "    </tr>\n",
       "    <tr>\n",
       "      <th>383</th>\n",
       "      <td>8381</td>\n",
       "      <td>United Republic of Tanzania</td>\n",
       "      <td>49.2</td>\n",
       "      <td>2000</td>\n",
       "      <td>NaN</td>\n",
       "    </tr>\n",
       "  </tbody>\n",
       "</table>\n",
       "<p>384 rows × 5 columns</p>\n",
       "</div>"
      ],
      "text/plain": [
       "     index                      Country  Life expectancy  Year region\n",
       "0     2019                      Czechia             78.8  2015    NaN\n",
       "1     2020                      Czechia             78.6  2014    NaN\n",
       "2     2021                      Czechia             78.2  2013    NaN\n",
       "3     2022                      Czechia             78.0  2012    NaN\n",
       "4     2023                      Czechia             77.8  2011    NaN\n",
       "..     ...                          ...              ...   ...    ...\n",
       "379   8377  United Republic of Tanzania             51.5  2004    NaN\n",
       "380   8378  United Republic of Tanzania             58.0  2003    NaN\n",
       "381   8379  United Republic of Tanzania             52.0  2002    NaN\n",
       "382   8380  United Republic of Tanzania             49.6  2001    NaN\n",
       "383   8381  United Republic of Tanzania             49.2  2000    NaN\n",
       "\n",
       "[384 rows x 5 columns]"
      ]
     },
     "execution_count": 16,
     "metadata": {},
     "output_type": "execute_result"
    }
   ],
   "source": [
    "region_nulls = merged_countries_life[merged_countries_life[\"region\"].isnull()]\n",
    "region_nulls = region_nulls.reset_index()\n",
    "region_nulls"
   ]
  },
  {
   "cell_type": "markdown",
   "metadata": {
    "id": "kQKP5V0eRkAl"
   },
   "source": [
    "Getting the unique countries from the records which have nulls in region and counting the number of these countries"
   ]
  },
  {
   "cell_type": "code",
   "execution_count": 17,
   "metadata": {
    "colab": {
     "base_uri": "https://localhost:8080/"
    },
    "id": "ERzaEc0ZR6kY",
    "outputId": "76c45e46-58b7-4cd0-974f-efef4ab053ad"
   },
   "outputs": [
    {
     "name": "stdout",
     "output_type": "stream",
     "text": [
      "['Czechia' \"Democratic People's Republic of Korea\"\n",
      " 'Democratic Republic of the Congo' 'Republic of Korea'\n",
      " 'Republic of Moldova' 'Russian Federation'\n",
      " 'The former Yugoslav republic of Macedonia' 'United Republic of Tanzania'] \n",
      "\n",
      "8\n"
     ]
    }
   ],
   "source": [
    "print(region_nulls['Country'].unique() , '\\n')\n",
    "print(len(region_nulls['Country'].unique()))"
   ]
  },
  {
   "cell_type": "markdown",
   "metadata": {
    "id": "cM6nBTI0lHkl"
   },
   "source": [
    "Replacing the null values of the region column in the merged dataframe by the correct region of the country and droping duplicate values"
   ]
  },
  {
   "cell_type": "code",
   "execution_count": 18,
   "metadata": {
    "id": "vhno1jCKWihm"
   },
   "outputs": [],
   "source": [
    "merged_countries_life.loc[merged_countries_life.Country == \"Czechia\", \"region\"] = \"Europe\"\n",
    "merged_countries_life.loc[merged_countries_life.Country == \"Republic of Moldova\", \"region\"] = \"Europe\"\n",
    "merged_countries_life.loc[merged_countries_life.Country == \"The former Yugoslav republic of Macedonia\", \"region\"] = \"Europe\"\n",
    "merged_countries_life.loc[merged_countries_life.Country == \"Democratic Republic of the Congo\", \"region\"] = \"Africa\"\n",
    "merged_countries_life.loc[merged_countries_life.Country == \"United Republic of Tanzania\", \"region\"] = \"Africa\"\n",
    "merged_countries_life.loc[merged_countries_life.Country == \"Russian Federation\", \"region\"] = \"Asia\"\n",
    "merged_countries_life.loc[merged_countries_life.Country == \"Democratic People's Republic of Korea\", \"region\"] = \"Asia\"\n",
    "merged_countries_life.loc[merged_countries_life.Country == \"Republic of Korea\", \"region\"] = \"Asia\""
   ]
  },
  {
   "cell_type": "code",
   "execution_count": 19,
   "metadata": {
    "id": "VqV9YhjC4eiy"
   },
   "outputs": [],
   "source": [
    "merged_countries_life = merged_countries_life.drop_duplicates()\n",
    "merged_countries_life.reset_index(inplace = True)"
   ]
  },
  {
   "cell_type": "code",
   "execution_count": 20,
   "metadata": {
    "colab": {
     "base_uri": "https://localhost:8080/",
     "height": 406
    },
    "id": "gFa0Ed24XTCa",
    "outputId": "bc83f67f-3f25-4140-f37b-6d317256f3a1"
   },
   "outputs": [
    {
     "data": {
      "text/html": [
       "<div>\n",
       "<style scoped>\n",
       "    .dataframe tbody tr th:only-of-type {\n",
       "        vertical-align: middle;\n",
       "    }\n",
       "\n",
       "    .dataframe tbody tr th {\n",
       "        vertical-align: top;\n",
       "    }\n",
       "\n",
       "    .dataframe thead th {\n",
       "        text-align: right;\n",
       "    }\n",
       "</style>\n",
       "<table border=\"1\" class=\"dataframe\">\n",
       "  <thead>\n",
       "    <tr style=\"text-align: right;\">\n",
       "      <th></th>\n",
       "      <th>index</th>\n",
       "      <th>Country</th>\n",
       "      <th>Life expectancy</th>\n",
       "      <th>Year</th>\n",
       "      <th>region</th>\n",
       "    </tr>\n",
       "  </thead>\n",
       "  <tbody>\n",
       "    <tr>\n",
       "      <th>0</th>\n",
       "      <td>0</td>\n",
       "      <td>Afghanistan</td>\n",
       "      <td>65.0</td>\n",
       "      <td>2015</td>\n",
       "      <td>Asia</td>\n",
       "    </tr>\n",
       "    <tr>\n",
       "      <th>1</th>\n",
       "      <td>1</td>\n",
       "      <td>Afghanistan</td>\n",
       "      <td>59.9</td>\n",
       "      <td>2014</td>\n",
       "      <td>Asia</td>\n",
       "    </tr>\n",
       "    <tr>\n",
       "      <th>2</th>\n",
       "      <td>2</td>\n",
       "      <td>Afghanistan</td>\n",
       "      <td>59.9</td>\n",
       "      <td>2013</td>\n",
       "      <td>Asia</td>\n",
       "    </tr>\n",
       "    <tr>\n",
       "      <th>3</th>\n",
       "      <td>3</td>\n",
       "      <td>Afghanistan</td>\n",
       "      <td>59.5</td>\n",
       "      <td>2012</td>\n",
       "      <td>Asia</td>\n",
       "    </tr>\n",
       "    <tr>\n",
       "      <th>4</th>\n",
       "      <td>4</td>\n",
       "      <td>Afghanistan</td>\n",
       "      <td>59.2</td>\n",
       "      <td>2011</td>\n",
       "      <td>Asia</td>\n",
       "    </tr>\n",
       "    <tr>\n",
       "      <th>...</th>\n",
       "      <td>...</td>\n",
       "      <td>...</td>\n",
       "      <td>...</td>\n",
       "      <td>...</td>\n",
       "      <td>...</td>\n",
       "    </tr>\n",
       "    <tr>\n",
       "      <th>2947</th>\n",
       "      <td>8777</td>\n",
       "      <td>Zimbabwe</td>\n",
       "      <td>44.3</td>\n",
       "      <td>2004</td>\n",
       "      <td>Africa</td>\n",
       "    </tr>\n",
       "    <tr>\n",
       "      <th>2948</th>\n",
       "      <td>8778</td>\n",
       "      <td>Zimbabwe</td>\n",
       "      <td>44.5</td>\n",
       "      <td>2003</td>\n",
       "      <td>Africa</td>\n",
       "    </tr>\n",
       "    <tr>\n",
       "      <th>2949</th>\n",
       "      <td>8779</td>\n",
       "      <td>Zimbabwe</td>\n",
       "      <td>44.8</td>\n",
       "      <td>2002</td>\n",
       "      <td>Africa</td>\n",
       "    </tr>\n",
       "    <tr>\n",
       "      <th>2950</th>\n",
       "      <td>8780</td>\n",
       "      <td>Zimbabwe</td>\n",
       "      <td>45.3</td>\n",
       "      <td>2001</td>\n",
       "      <td>Africa</td>\n",
       "    </tr>\n",
       "    <tr>\n",
       "      <th>2951</th>\n",
       "      <td>8781</td>\n",
       "      <td>Zimbabwe</td>\n",
       "      <td>46.0</td>\n",
       "      <td>2000</td>\n",
       "      <td>Africa</td>\n",
       "    </tr>\n",
       "  </tbody>\n",
       "</table>\n",
       "<p>2952 rows × 5 columns</p>\n",
       "</div>"
      ],
      "text/plain": [
       "      index      Country  Life expectancy  Year  region\n",
       "0         0  Afghanistan             65.0  2015    Asia\n",
       "1         1  Afghanistan             59.9  2014    Asia\n",
       "2         2  Afghanistan             59.9  2013    Asia\n",
       "3         3  Afghanistan             59.5  2012    Asia\n",
       "4         4  Afghanistan             59.2  2011    Asia\n",
       "...     ...          ...              ...   ...     ...\n",
       "2947   8777     Zimbabwe             44.3  2004  Africa\n",
       "2948   8778     Zimbabwe             44.5  2003  Africa\n",
       "2949   8779     Zimbabwe             44.8  2002  Africa\n",
       "2950   8780     Zimbabwe             45.3  2001  Africa\n",
       "2951   8781     Zimbabwe             46.0  2000  Africa\n",
       "\n",
       "[2952 rows x 5 columns]"
      ]
     },
     "execution_count": 20,
     "metadata": {},
     "output_type": "execute_result"
    }
   ],
   "source": [
    "merged_countries_life"
   ]
  },
  {
   "cell_type": "markdown",
   "metadata": {
    "id": "N4NJghg2lmg6"
   },
   "source": [
    "Checking the nulls after replacing the ones in region column"
   ]
  },
  {
   "cell_type": "code",
   "execution_count": 21,
   "metadata": {
    "colab": {
     "base_uri": "https://localhost:8080/"
    },
    "id": "QdFObbSVlf-A",
    "outputId": "6570df92-4644-4533-b7b0-0691e197f2ad"
   },
   "outputs": [
    {
     "data": {
      "text/plain": [
       "index              0\n",
       "Country            0\n",
       "Life expectancy    0\n",
       "Year               0\n",
       "region             0\n",
       "dtype: int64"
      ]
     },
     "execution_count": 21,
     "metadata": {},
     "output_type": "execute_result"
    }
   ],
   "source": [
    "merged_countries_life.isnull().sum()"
   ]
  },
  {
   "cell_type": "markdown",
   "metadata": {
    "id": "Z3TGtGmR7vb2"
   },
   "source": [
    "Printing the number of years recorded in the dataframe"
   ]
  },
  {
   "cell_type": "code",
   "execution_count": 22,
   "metadata": {
    "colab": {
     "base_uri": "https://localhost:8080/"
    },
    "id": "r25Ua9fU0FDT",
    "outputId": "79d4e1fd-0111-4e26-ead0-0115ded7e36d"
   },
   "outputs": [
    {
     "data": {
      "text/plain": [
       "[2000,\n",
       " 2001,\n",
       " 2002,\n",
       " 2003,\n",
       " 2004,\n",
       " 2005,\n",
       " 2006,\n",
       " 2007,\n",
       " 2008,\n",
       " 2009,\n",
       " 2010,\n",
       " 2011,\n",
       " 2012,\n",
       " 2013,\n",
       " 2014,\n",
       " 2015]"
      ]
     },
     "execution_count": 22,
     "metadata": {},
     "output_type": "execute_result"
    }
   ],
   "source": [
    "merged_years = merged_countries_life['Year'].unique().tolist()\n",
    "merged_years.sort()\n",
    "merged_years"
   ]
  },
  {
   "cell_type": "markdown",
   "metadata": {
    "id": "ZD_mF0NU8ENP"
   },
   "source": [
    "Getting the records for each year"
   ]
  },
  {
   "cell_type": "code",
   "execution_count": 23,
   "metadata": {
    "id": "QNkSGTO71enl"
   },
   "outputs": [],
   "source": [
    "merged_countries_life_2000 = merged_countries_life[merged_countries_life[\"Year\"] == 2000]\n",
    "merged_countries_life_2001 = merged_countries_life[merged_countries_life[\"Year\"] == 2001]\n",
    "merged_countries_life_2002 = merged_countries_life[merged_countries_life[\"Year\"] == 2002]\n",
    "merged_countries_life_2003 = merged_countries_life[merged_countries_life[\"Year\"] == 2003]\n",
    "merged_countries_life_2004 = merged_countries_life[merged_countries_life[\"Year\"] == 2004]\n",
    "merged_countries_life_2005 = merged_countries_life[merged_countries_life[\"Year\"] == 2005]\n",
    "merged_countries_life_2006 = merged_countries_life[merged_countries_life[\"Year\"] == 2006]\n",
    "merged_countries_life_2007 = merged_countries_life[merged_countries_life[\"Year\"] == 2007]\n",
    "merged_countries_life_2008 = merged_countries_life[merged_countries_life[\"Year\"] == 2008]\n",
    "merged_countries_life_2009 = merged_countries_life[merged_countries_life[\"Year\"] == 2009]\n",
    "merged_countries_life_2010 = merged_countries_life[merged_countries_life[\"Year\"] == 2010]\n",
    "merged_countries_life_2011 = merged_countries_life[merged_countries_life[\"Year\"] == 2011]\n",
    "merged_countries_life_2012 = merged_countries_life[merged_countries_life[\"Year\"] == 2012]\n",
    "merged_countries_life_2013 = merged_countries_life[merged_countries_life[\"Year\"] == 2013]\n",
    "merged_countries_life_2014 = merged_countries_life[merged_countries_life[\"Year\"] == 2014]\n",
    "merged_countries_life_2015 = merged_countries_life[merged_countries_life[\"Year\"] == 2015]"
   ]
  },
  {
   "cell_type": "markdown",
   "metadata": {
    "id": "3kFZ0C6n8JFD"
   },
   "source": [
    "Getting the records for Asia in all years"
   ]
  },
  {
   "cell_type": "code",
   "execution_count": 24,
   "metadata": {
    "id": "lw9tDc3N60sU"
   },
   "outputs": [],
   "source": [
    "merged_countries_life_2000_asia = merged_countries_life_2000[merged_countries_life_2000[\"region\"] == \"Asia\"]\n",
    "merged_countries_life_2001_asia = merged_countries_life_2001[merged_countries_life_2001[\"region\"] == \"Asia\"]\n",
    "merged_countries_life_2002_asia = merged_countries_life_2002[merged_countries_life_2002[\"region\"] == \"Asia\"]\n",
    "merged_countries_life_2003_asia = merged_countries_life_2003[merged_countries_life_2003[\"region\"] == \"Asia\"]\n",
    "merged_countries_life_2004_asia = merged_countries_life_2004[merged_countries_life_2004[\"region\"] == \"Asia\"]\n",
    "merged_countries_life_2005_asia = merged_countries_life_2005[merged_countries_life_2005[\"region\"] == \"Asia\"]\n",
    "merged_countries_life_2006_asia = merged_countries_life_2006[merged_countries_life_2006[\"region\"] == \"Asia\"]\n",
    "merged_countries_life_2006_asia = merged_countries_life_2006[merged_countries_life_2006[\"region\"] == \"Asia\"]\n",
    "merged_countries_life_2007_asia = merged_countries_life_2007[merged_countries_life_2007[\"region\"] == \"Asia\"]\n",
    "merged_countries_life_2008_asia = merged_countries_life_2008[merged_countries_life_2008[\"region\"] == \"Asia\"]\n",
    "merged_countries_life_2009_asia = merged_countries_life_2009[merged_countries_life_2009[\"region\"] == \"Asia\"]\n",
    "merged_countries_life_2010_asia = merged_countries_life_2010[merged_countries_life_2010[\"region\"] == \"Asia\"]\n",
    "merged_countries_life_2011_asia = merged_countries_life_2011[merged_countries_life_2011[\"region\"] == \"Asia\"]\n",
    "merged_countries_life_2012_asia = merged_countries_life_2012[merged_countries_life_2012[\"region\"] == \"Asia\"]\n",
    "merged_countries_life_2013_asia = merged_countries_life_2013[merged_countries_life_2013[\"region\"] == \"Asia\"]\n",
    "merged_countries_life_2014_asia = merged_countries_life_2014[merged_countries_life_2014[\"region\"] == \"Asia\"]\n",
    "merged_countries_life_2015_asia = merged_countries_life_2015[merged_countries_life_2015[\"region\"] == \"Asia\"]\n"
   ]
  },
  {
   "cell_type": "markdown",
   "metadata": {
    "id": "UXEgY0FKAaU8"
   },
   "source": [
    "Getting the mean values of each year for Asia in one array"
   ]
  },
  {
   "cell_type": "code",
   "execution_count": 25,
   "metadata": {
    "id": "ArC1ujLiAfz2"
   },
   "outputs": [],
   "source": [
    "merged_countries_life_asia = [merged_countries_life_2000_asia[\"Life expectancy\"].mean(),merged_countries_life_2001_asia[\"Life expectancy\"].mean(),merged_countries_life_2002_asia[\"Life expectancy\"].mean(),merged_countries_life_2003_asia[\"Life expectancy\"].mean(),merged_countries_life_2004_asia[\"Life expectancy\"].mean(),merged_countries_life_2005_asia[\"Life expectancy\"].mean(),merged_countries_life_2006_asia[\"Life expectancy\"].mean(),merged_countries_life_2007_asia[\"Life expectancy\"].mean(),merged_countries_life_2008_asia[\"Life expectancy\"].mean(),merged_countries_life_2009_asia[\"Life expectancy\"].mean(),merged_countries_life_2010_asia[\"Life expectancy\"].mean(),merged_countries_life_2011_asia[\"Life expectancy\"].mean(),merged_countries_life_2012_asia[\"Life expectancy\"].mean(),merged_countries_life_2013_asia[\"Life expectancy\"].mean(),merged_countries_life_2014_asia[\"Life expectancy\"].mean(),merged_countries_life_2015_asia[\"Life expectancy\"].mean()]"
   ]
  },
  {
   "cell_type": "markdown",
   "metadata": {
    "id": "BI20fIfR8Sp-"
   },
   "source": [
    "Getting the records for Europe in all years"
   ]
  },
  {
   "cell_type": "code",
   "execution_count": 26,
   "metadata": {
    "id": "C4kOrwqL8Sp_"
   },
   "outputs": [],
   "source": [
    "merged_countries_life_2000_Europe = merged_countries_life_2000[merged_countries_life_2000[\"region\"] == \"Europe\"]\n",
    "merged_countries_life_2001_Europe = merged_countries_life_2001[merged_countries_life_2001[\"region\"] == \"Europe\"]\n",
    "merged_countries_life_2002_Europe = merged_countries_life_2002[merged_countries_life_2002[\"region\"] == \"Europe\"]\n",
    "merged_countries_life_2003_Europe = merged_countries_life_2003[merged_countries_life_2003[\"region\"] == \"Europe\"]\n",
    "merged_countries_life_2004_Europe = merged_countries_life_2004[merged_countries_life_2004[\"region\"] == \"Europe\"]\n",
    "merged_countries_life_2005_Europe = merged_countries_life_2005[merged_countries_life_2005[\"region\"] == \"Europe\"]\n",
    "merged_countries_life_2006_Europe = merged_countries_life_2006[merged_countries_life_2006[\"region\"] == \"Europe\"]\n",
    "merged_countries_life_2006_Europe = merged_countries_life_2006[merged_countries_life_2006[\"region\"] == \"Europe\"]\n",
    "merged_countries_life_2007_Europe = merged_countries_life_2007[merged_countries_life_2007[\"region\"] == \"Europe\"]\n",
    "merged_countries_life_2008_Europe = merged_countries_life_2008[merged_countries_life_2008[\"region\"] == \"Europe\"]\n",
    "merged_countries_life_2009_Europe = merged_countries_life_2009[merged_countries_life_2009[\"region\"] == \"Europe\"]\n",
    "merged_countries_life_2010_Europe = merged_countries_life_2010[merged_countries_life_2010[\"region\"] == \"Europe\"]\n",
    "merged_countries_life_2011_Europe = merged_countries_life_2011[merged_countries_life_2011[\"region\"] == \"Europe\"]\n",
    "merged_countries_life_2012_Europe = merged_countries_life_2012[merged_countries_life_2012[\"region\"] == \"Europe\"]\n",
    "merged_countries_life_2013_Europe = merged_countries_life_2013[merged_countries_life_2013[\"region\"] == \"Europe\"]\n",
    "merged_countries_life_2014_Europe = merged_countries_life_2014[merged_countries_life_2014[\"region\"] == \"Europe\"]\n",
    "merged_countries_life_2015_Europe = merged_countries_life_2015[merged_countries_life_2015[\"region\"] == \"Europe\"]\n"
   ]
  },
  {
   "cell_type": "markdown",
   "metadata": {
    "id": "57-SVRjVBfoe"
   },
   "source": [
    "Getting the mean values of each year for Europe in one array"
   ]
  },
  {
   "cell_type": "code",
   "execution_count": 27,
   "metadata": {
    "id": "JpJ285N7Bfop"
   },
   "outputs": [],
   "source": [
    "merged_countries_life_Europe = [merged_countries_life_2000_Europe[\"Life expectancy\"].mean(),merged_countries_life_2001_Europe[\"Life expectancy\"].mean(),merged_countries_life_2002_Europe[\"Life expectancy\"].mean(),merged_countries_life_2003_Europe[\"Life expectancy\"].mean(),merged_countries_life_2004_Europe[\"Life expectancy\"].mean(),merged_countries_life_2005_Europe[\"Life expectancy\"].mean(),merged_countries_life_2006_Europe[\"Life expectancy\"].mean(),merged_countries_life_2007_Europe[\"Life expectancy\"].mean(),merged_countries_life_2008_Europe[\"Life expectancy\"].mean(),merged_countries_life_2009_Europe[\"Life expectancy\"].mean(),merged_countries_life_2010_Europe[\"Life expectancy\"].mean(),merged_countries_life_2011_Europe[\"Life expectancy\"].mean(),merged_countries_life_2012_Europe[\"Life expectancy\"].mean(),merged_countries_life_2013_Europe[\"Life expectancy\"].mean(),merged_countries_life_2014_Europe[\"Life expectancy\"].mean(),merged_countries_life_2015_Europe[\"Life expectancy\"].mean()]"
   ]
  },
  {
   "cell_type": "markdown",
   "metadata": {
    "id": "Zo_CnQAN8V8d"
   },
   "source": [
    "Getting the records for Americas in all years"
   ]
  },
  {
   "cell_type": "code",
   "execution_count": 28,
   "metadata": {
    "id": "x0gzrcoG8V8d"
   },
   "outputs": [],
   "source": [
    "merged_countries_life_2000_Americas = merged_countries_life_2000[merged_countries_life_2000[\"region\"] == \"Americas\"]\n",
    "merged_countries_life_2001_Americas = merged_countries_life_2001[merged_countries_life_2001[\"region\"] == \"Americas\"]\n",
    "merged_countries_life_2002_Americas = merged_countries_life_2002[merged_countries_life_2002[\"region\"] == \"Americas\"]\n",
    "merged_countries_life_2003_Americas = merged_countries_life_2003[merged_countries_life_2003[\"region\"] == \"Americas\"]\n",
    "merged_countries_life_2004_Americas = merged_countries_life_2004[merged_countries_life_2004[\"region\"] == \"Americas\"]\n",
    "merged_countries_life_2005_Americas = merged_countries_life_2005[merged_countries_life_2005[\"region\"] == \"Americas\"]\n",
    "merged_countries_life_2006_Americas = merged_countries_life_2006[merged_countries_life_2006[\"region\"] == \"Americas\"]\n",
    "merged_countries_life_2006_Americas = merged_countries_life_2006[merged_countries_life_2006[\"region\"] == \"Americas\"]\n",
    "merged_countries_life_2007_Americas = merged_countries_life_2007[merged_countries_life_2007[\"region\"] == \"Americas\"]\n",
    "merged_countries_life_2008_Americas = merged_countries_life_2008[merged_countries_life_2008[\"region\"] == \"Americas\"]\n",
    "merged_countries_life_2009_Americas = merged_countries_life_2009[merged_countries_life_2009[\"region\"] == \"Americas\"]\n",
    "merged_countries_life_2010_Americas = merged_countries_life_2010[merged_countries_life_2010[\"region\"] == \"Americas\"]\n",
    "merged_countries_life_2011_Americas = merged_countries_life_2011[merged_countries_life_2011[\"region\"] == \"Americas\"]\n",
    "merged_countries_life_2012_Americas = merged_countries_life_2012[merged_countries_life_2012[\"region\"] == \"Americas\"]\n",
    "merged_countries_life_2013_Americas = merged_countries_life_2013[merged_countries_life_2013[\"region\"] == \"Americas\"]\n",
    "merged_countries_life_2014_Americas = merged_countries_life_2014[merged_countries_life_2014[\"region\"] == \"Americas\"]\n",
    "merged_countries_life_2015_Americas = merged_countries_life_2015[merged_countries_life_2015[\"region\"] == \"Americas\"]\n"
   ]
  },
  {
   "cell_type": "markdown",
   "metadata": {
    "id": "3U6YzArWBgCc"
   },
   "source": [
    "Getting the mean values of each year for Americas in one array"
   ]
  },
  {
   "cell_type": "code",
   "execution_count": 29,
   "metadata": {
    "id": "tvDfpSRzBgCe"
   },
   "outputs": [],
   "source": [
    "merged_countries_life_Americas = [merged_countries_life_2000_Americas[\"Life expectancy\"].mean(),merged_countries_life_2001_Americas[\"Life expectancy\"].mean(),merged_countries_life_2002_Americas[\"Life expectancy\"].mean(),merged_countries_life_2003_Americas[\"Life expectancy\"].mean(),merged_countries_life_2004_Americas[\"Life expectancy\"].mean(),merged_countries_life_2005_Americas[\"Life expectancy\"].mean(),merged_countries_life_2006_Americas[\"Life expectancy\"].mean(),merged_countries_life_2007_Americas[\"Life expectancy\"].mean(),merged_countries_life_2008_Americas[\"Life expectancy\"].mean(),merged_countries_life_2009_Americas[\"Life expectancy\"].mean(),merged_countries_life_2010_Americas[\"Life expectancy\"].mean(),merged_countries_life_2011_Americas[\"Life expectancy\"].mean(),merged_countries_life_2012_Americas[\"Life expectancy\"].mean(),merged_countries_life_2013_Americas[\"Life expectancy\"].mean(),merged_countries_life_2014_Americas[\"Life expectancy\"].mean(),merged_countries_life_2015_Americas[\"Life expectancy\"].mean()]"
   ]
  },
  {
   "cell_type": "markdown",
   "metadata": {
    "id": "9u9NHoSu8WjY"
   },
   "source": [
    "Getting the records for Africa in all years"
   ]
  },
  {
   "cell_type": "code",
   "execution_count": 30,
   "metadata": {
    "id": "OysOZFFU8WjZ"
   },
   "outputs": [],
   "source": [
    "merged_countries_life_2000_Africa = merged_countries_life_2000[merged_countries_life_2000[\"region\"] == \"Africa\"]\n",
    "merged_countries_life_2001_Africa = merged_countries_life_2001[merged_countries_life_2001[\"region\"] == \"Africa\"]\n",
    "merged_countries_life_2002_Africa = merged_countries_life_2002[merged_countries_life_2002[\"region\"] == \"Africa\"]\n",
    "merged_countries_life_2003_Africa = merged_countries_life_2003[merged_countries_life_2003[\"region\"] == \"Africa\"]\n",
    "merged_countries_life_2004_Africa = merged_countries_life_2004[merged_countries_life_2004[\"region\"] == \"Africa\"]\n",
    "merged_countries_life_2005_Africa = merged_countries_life_2005[merged_countries_life_2005[\"region\"] == \"Africa\"]\n",
    "merged_countries_life_2006_Africa = merged_countries_life_2006[merged_countries_life_2006[\"region\"] == \"Africa\"]\n",
    "merged_countries_life_2006_Africa = merged_countries_life_2006[merged_countries_life_2006[\"region\"] == \"Africa\"]\n",
    "merged_countries_life_2007_Africa = merged_countries_life_2007[merged_countries_life_2007[\"region\"] == \"Africa\"]\n",
    "merged_countries_life_2008_Africa = merged_countries_life_2008[merged_countries_life_2008[\"region\"] == \"Africa\"]\n",
    "merged_countries_life_2009_Africa = merged_countries_life_2009[merged_countries_life_2009[\"region\"] == \"Africa\"]\n",
    "merged_countries_life_2010_Africa = merged_countries_life_2010[merged_countries_life_2010[\"region\"] == \"Africa\"]\n",
    "merged_countries_life_2011_Africa = merged_countries_life_2011[merged_countries_life_2011[\"region\"] == \"Africa\"]\n",
    "merged_countries_life_2012_Africa = merged_countries_life_2012[merged_countries_life_2012[\"region\"] == \"Africa\"]\n",
    "merged_countries_life_2013_Africa = merged_countries_life_2013[merged_countries_life_2013[\"region\"] == \"Africa\"]\n",
    "merged_countries_life_2014_Africa = merged_countries_life_2014[merged_countries_life_2014[\"region\"] == \"Africa\"]\n",
    "merged_countries_life_2015_Africa = merged_countries_life_2015[merged_countries_life_2015[\"region\"] == \"Africa\"]\n"
   ]
  },
  {
   "cell_type": "markdown",
   "metadata": {
    "id": "l3afQWZgBgQI"
   },
   "source": [
    "Getting the mean values of each year for Africa in one array"
   ]
  },
  {
   "cell_type": "code",
   "execution_count": 31,
   "metadata": {
    "id": "fQi55Va5BgQK"
   },
   "outputs": [],
   "source": [
    "merged_countries_life_Africa = [merged_countries_life_2000_Africa[\"Life expectancy\"].mean(),merged_countries_life_2001_Africa[\"Life expectancy\"].mean(),merged_countries_life_2002_Africa[\"Life expectancy\"].mean(),merged_countries_life_2003_Africa[\"Life expectancy\"].mean(),merged_countries_life_2004_Africa[\"Life expectancy\"].mean(),merged_countries_life_2005_Africa[\"Life expectancy\"].mean(),merged_countries_life_2006_Africa[\"Life expectancy\"].mean(),merged_countries_life_2007_Africa[\"Life expectancy\"].mean(),merged_countries_life_2008_Africa[\"Life expectancy\"].mean(),merged_countries_life_2009_Africa[\"Life expectancy\"].mean(),merged_countries_life_2010_Africa[\"Life expectancy\"].mean(),merged_countries_life_2011_Africa[\"Life expectancy\"].mean(),merged_countries_life_2012_Africa[\"Life expectancy\"].mean(),merged_countries_life_2013_Africa[\"Life expectancy\"].mean(),merged_countries_life_2014_Africa[\"Life expectancy\"].mean(),merged_countries_life_2015_Africa[\"Life expectancy\"].mean()]"
   ]
  },
  {
   "cell_type": "markdown",
   "metadata": {
    "id": "baS9BY7z8XKf"
   },
   "source": [
    "Getting the records for Oceania in all years"
   ]
  },
  {
   "cell_type": "code",
   "execution_count": 32,
   "metadata": {
    "id": "jnuWiKF18XKh"
   },
   "outputs": [],
   "source": [
    "merged_countries_life_2000_Oceania = merged_countries_life_2000[merged_countries_life_2000[\"region\"] == \"Oceania\"]\n",
    "merged_countries_life_2001_Oceania = merged_countries_life_2001[merged_countries_life_2001[\"region\"] == \"Oceania\"]\n",
    "merged_countries_life_2002_Oceania = merged_countries_life_2002[merged_countries_life_2002[\"region\"] == \"Oceania\"]\n",
    "merged_countries_life_2003_Oceania = merged_countries_life_2003[merged_countries_life_2003[\"region\"] == \"Oceania\"]\n",
    "merged_countries_life_2004_Oceania = merged_countries_life_2004[merged_countries_life_2004[\"region\"] == \"Oceania\"]\n",
    "merged_countries_life_2005_Oceania = merged_countries_life_2005[merged_countries_life_2005[\"region\"] == \"Oceania\"]\n",
    "merged_countries_life_2006_Oceania = merged_countries_life_2006[merged_countries_life_2006[\"region\"] == \"Oceania\"]\n",
    "merged_countries_life_2006_Oceania = merged_countries_life_2006[merged_countries_life_2006[\"region\"] == \"Oceania\"]\n",
    "merged_countries_life_2007_Oceania = merged_countries_life_2007[merged_countries_life_2007[\"region\"] == \"Oceania\"]\n",
    "merged_countries_life_2008_Oceania = merged_countries_life_2008[merged_countries_life_2008[\"region\"] == \"Oceania\"]\n",
    "merged_countries_life_2009_Oceania = merged_countries_life_2009[merged_countries_life_2009[\"region\"] == \"Oceania\"]\n",
    "merged_countries_life_2010_Oceania = merged_countries_life_2010[merged_countries_life_2010[\"region\"] == \"Oceania\"]\n",
    "merged_countries_life_2011_Oceania = merged_countries_life_2011[merged_countries_life_2011[\"region\"] == \"Oceania\"]\n",
    "merged_countries_life_2012_Oceania = merged_countries_life_2012[merged_countries_life_2012[\"region\"] == \"Oceania\"]\n",
    "merged_countries_life_2013_Oceania = merged_countries_life_2013[merged_countries_life_2013[\"region\"] == \"Oceania\"]\n",
    "merged_countries_life_2014_Oceania = merged_countries_life_2014[merged_countries_life_2014[\"region\"] == \"Oceania\"]\n",
    "merged_countries_life_2015_Oceania = merged_countries_life_2015[merged_countries_life_2015[\"region\"] == \"Oceania\"]\n"
   ]
  },
  {
   "cell_type": "markdown",
   "metadata": {
    "id": "cp2EHjIOBgYe"
   },
   "source": [
    "Getting the mean values of each year for Oceania in one array"
   ]
  },
  {
   "cell_type": "code",
   "execution_count": 33,
   "metadata": {
    "id": "HE8q0sguBgYe"
   },
   "outputs": [],
   "source": [
    "merged_countries_life_Oceania = [merged_countries_life_2000_Oceania[\"Life expectancy\"].mean(),merged_countries_life_2001_Oceania[\"Life expectancy\"].mean(),merged_countries_life_2002_Oceania[\"Life expectancy\"].mean(),merged_countries_life_2003_Oceania[\"Life expectancy\"].mean(),merged_countries_life_2004_Oceania[\"Life expectancy\"].mean(),merged_countries_life_2005_Oceania[\"Life expectancy\"].mean(),merged_countries_life_2006_Oceania[\"Life expectancy\"].mean(),merged_countries_life_2007_Oceania[\"Life expectancy\"].mean(),merged_countries_life_2008_Oceania[\"Life expectancy\"].mean(),merged_countries_life_2009_Oceania[\"Life expectancy\"].mean(),merged_countries_life_2010_Oceania[\"Life expectancy\"].mean(),merged_countries_life_2011_Oceania[\"Life expectancy\"].mean(),merged_countries_life_2012_Oceania[\"Life expectancy\"].mean(),merged_countries_life_2013_Oceania[\"Life expectancy\"].mean(),merged_countries_life_2014_Oceania[\"Life expectancy\"].mean(),merged_countries_life_2015_Oceania[\"Life expectancy\"].mean()]"
   ]
  },
  {
   "cell_type": "markdown",
   "metadata": {
    "id": "OvCSSDr6JQzt"
   },
   "source": [
    "Plotting rate of change of life expectancy of each region throughout the years"
   ]
  },
  {
   "cell_type": "code",
   "execution_count": 34,
   "metadata": {
    "colab": {
     "base_uri": "https://localhost:8080/",
     "height": 418
    },
    "id": "9JihqJ8aERmr",
    "outputId": "6b3425bc-dd99-4541-c8c6-770a3e16eec9"
   },
   "outputs": [
    {
     "data": {
      "image/png": "[encoded data removed]",
      "text/plain": [
       "<Figure size 1692x540 with 1 Axes>"
      ]
     },
     "metadata": {
      "needs_background": "light"
     },
     "output_type": "display_data"
    }
   ],
   "source": [
    "fig, (ax1) = plt.subplots(1)\n",
    "fig.set_size_inches(23.5, 7.5)\n",
    "ax1.plot(merged_years, merged_countries_life_asia, label =\"Asia Life Expectancy\")\n",
    "ax1.plot(merged_years, merged_countries_life_Europe, label =\"Europe Life Expectancy\")\n",
    "ax1.plot(merged_years, merged_countries_life_Americas, label =\"Americas Life Expectancy\")\n",
    "ax1.plot(merged_years, merged_countries_life_Africa, label =\"Africa Life Expectancy\")\n",
    "ax1.plot(merged_years, merged_countries_life_Oceania, label =\"Oceania Life Expectancy\")\n",
    "fig.suptitle('Plotting rate of change of life expectancy of each region throughout the years')\n",
    "leg = ax1.legend()\n"
   ]
  },
  {
   "cell_type": "markdown",
   "metadata": {
    "id": "o5pH9lP5J8UN"
   },
   "source": [
    "In conclusion, we found out that the life expectancy overall in all regions has been increasing since 2000 and that's due to the many breakthroughs that happened in the medical area and any progress that happens in any area traverses in the other regions. But there are insights that life expectancy in europe and oceania took a surprising negative inclination in 2012 and that was pretty interesting and calls for investigation on what happened that year but after that it started to increase again in both of these regions yet again in 2014 it took another negative inclination but this time in europe alone which is more interesting to find what happened in europe generally in that interval starting 2012.\n",
    "\n",
    "Regarding the differences between each region in life expectancy, we found out that the region with the highest values in life expectancy is europe which is pretty convincing due to the high medical capabilities that europe have. Then comes the americas region which is also convincing cause the americas contain the United States of America and Canada and many countries that have high medical capabilities. After that comes Asia and Oceanina which have similar values that are less than the americas and europe but obviously are considered high ones compared to Africa which has the least life expectancy values in all regions and these values are very low due to famines that occur in many countries in africa and due to the lack of medical capabilities represented in hospitals, medicines and doctors."
   ]
  }
 ],
 "metadata": {
  "colab": {
   "name": "Question8.ipynb",
   "provenance": []
  },
  "kernelspec": {
   "display_name": "Python 3",
   "language": "python",
   "name": "python3"
  },
  "language_info": {
   "codemirror_mode": {
    "name": "ipython",
    "version": 3
   },
   "file_extension": ".py",
   "mimetype": "text/x-python",
   "name": "python",
   "nbconvert_exporter": "python",
   "pygments_lexer": "ipython3",
   "version": "3.7.1"
  }
 },
 "nbformat": 4,
 "nbformat_minor": 1
}
