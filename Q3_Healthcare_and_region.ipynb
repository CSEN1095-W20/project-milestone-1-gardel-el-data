{
 "cells": [
  {
   "cell_type": "markdown",
   "metadata": {},
   "source": [
    "# How does healthcare quality change with region?"
   ]
  },
  {
   "cell_type": "code",
   "execution_count": 5,
   "metadata": {},
   "outputs": [],
   "source": [
    "import pandas as pd\n",
    "import matplotlib.pyplot as plt\n",
    "import numpy as np\n",
    "from sklearn.preprocessing import MinMaxScaler"
   ]
  },
  {
   "cell_type": "code",
   "execution_count": 6,
   "metadata": {},
   "outputs": [
    {
     "name": "stdout",
     "output_type": "stream",
     "text": [
      "Collecting matplotlib-venn\n",
      "  Downloading matplotlib-venn-0.11.6.tar.gz (29 kB)\n",
      "Requirement already satisfied: matplotlib in c:\\users\\ahmed\\appdata\\local\\continuum\\anaconda3\\lib\\site-packages (from matplotlib-venn) (3.3.2)\n",
      "Requirement already satisfied: numpy in c:\\users\\ahmed\\appdata\\local\\continuum\\anaconda3\\lib\\site-packages (from matplotlib-venn) (1.19.2)\n",
      "Requirement already satisfied: scipy in c:\\users\\ahmed\\appdata\\local\\continuum\\anaconda3\\lib\\site-packages (from matplotlib-venn) (1.5.2)\n",
      "Requirement already satisfied: kiwisolver>=1.0.1 in c:\\users\\ahmed\\appdata\\local\\continuum\\anaconda3\\lib\\site-packages (from matplotlib->matplotlib-venn) (1.3.0)\n",
      "Requirement already satisfied: cycler>=0.10 in c:\\users\\ahmed\\appdata\\local\\continuum\\anaconda3\\lib\\site-packages (from matplotlib->matplotlib-venn) (0.10.0)\n",
      "Requirement already satisfied: pillow>=6.2.0 in c:\\users\\ahmed\\appdata\\local\\continuum\\anaconda3\\lib\\site-packages (from matplotlib->matplotlib-venn) (8.0.1)\n",
      "Requirement already satisfied: certifi>=2020.06.20 in c:\\users\\ahmed\\appdata\\local\\continuum\\anaconda3\\lib\\site-packages (from matplotlib->matplotlib-venn) (2020.12.5)\n",
      "Requirement already satisfied: python-dateutil>=2.1 in c:\\users\\ahmed\\appdata\\local\\continuum\\anaconda3\\lib\\site-packages (from matplotlib->matplotlib-venn) (2.8.1)\n",
      "Requirement already satisfied: pyparsing!=2.0.4,!=2.1.2,!=2.1.6,>=2.0.3 in c:\\users\\ahmed\\appdata\\local\\continuum\\anaconda3\\lib\\site-packages (from matplotlib->matplotlib-venn) (2.4.7)\n",
      "Requirement already satisfied: six in c:\\users\\ahmed\\appdata\\roaming\\python\\python37\\site-packages (from cycler>=0.10->matplotlib->matplotlib-venn) (1.12.0)\n",
      "Building wheels for collected packages: matplotlib-venn\n",
      "  Building wheel for matplotlib-venn (setup.py): started\n",
      "  Building wheel for matplotlib-venn (setup.py): finished with status 'done'\n",
      "  Created wheel for matplotlib-venn: filename=matplotlib_venn-0.11.6-py3-none-any.whl size=32062 sha256=0f7607dda0444e1223fe9c45b65d5a06583dfabdc1c2eb040293561287bcc8f0\n",
      "  Stored in directory: c:\\users\\ahmed\\appdata\\local\\pip\\cache\\wheels\\83\\b1\\0d\\2f0c1d1b8ac6eb051dac0775adc44c8a83a0bf1dafc2b2becc\n",
      "Successfully built matplotlib-venn\n",
      "Installing collected packages: matplotlib-venn\n",
      "Successfully installed matplotlib-venn-0.11.6\n"
     ]
    }
   ],
   "source": [
    "!pip install matplotlib-venn"
   ]
  },
  {
   "cell_type": "code",
   "execution_count": 7,
   "metadata": {},
   "outputs": [],
   "source": [
    "#Read Data\n",
    "root_path='Cleaned_data/'\n",
    "life_expectancy_df = pd.read_csv(root_path+'Life Expectancy Data.csv')\n",
    "country_df = pd.read_csv(root_path+'250 Country Data.csv')"
   ]
  },
  {
   "cell_type": "code",
   "execution_count": 8,
   "metadata": {},
   "outputs": [
    {
     "name": "stdout",
     "output_type": "stream",
     "text": [
      "Intersection of countries\n"
     ]
    },
    {
     "data": {
      "image/png": "[encoded data removed]",
      "text/plain": [
       "<Figure size 288x288 with 1 Axes>"
      ]
     },
     "metadata": {},
     "output_type": "display_data"
    }
   ],
   "source": [
    "from matplotlib_venn import venn2\n",
    "print(\"Intersection of countries\")\n",
    "plt.figure(figsize=(4,4))\n",
    "set1 = set(life_expectancy_df['Country'])\n",
    "set2 = set(country_df['name'])\n",
    "venn2([set1, set2], ('Countries in life expectancy df', 'Countries in country df'))\n",
    "plt.show()"
   ]
  },
  {
   "cell_type": "markdown",
   "metadata": {},
   "source": [
    "185 countries in common between the 2 datasets, this is good as the big intersection means minimal data loss. Below we merge the 2 datasets"
   ]
  },
  {
   "cell_type": "code",
   "execution_count": 9,
   "metadata": {},
   "outputs": [
    {
     "data": {
      "text/html": [
       "<div>\n",
       "<style scoped>\n",
       "    .dataframe tbody tr th:only-of-type {\n",
       "        vertical-align: middle;\n",
       "    }\n",
       "\n",
       "    .dataframe tbody tr th {\n",
       "        vertical-align: top;\n",
       "    }\n",
       "\n",
       "    .dataframe thead th {\n",
       "        text-align: right;\n",
       "    }\n",
       "</style>\n",
       "<table border=\"1\" class=\"dataframe\">\n",
       "  <thead>\n",
       "    <tr style=\"text-align: right;\">\n",
       "      <th></th>\n",
       "      <th>Country</th>\n",
       "      <th>Year</th>\n",
       "      <th>Status</th>\n",
       "      <th>HIV/AIDS Deaths</th>\n",
       "      <th>Disease</th>\n",
       "      <th>Life expectancy</th>\n",
       "      <th>Adult Mortality</th>\n",
       "      <th>Income composition of resources</th>\n",
       "      <th>Immunization coverage</th>\n",
       "      <th>GDP</th>\n",
       "      <th>Schooling</th>\n",
       "      <th>name</th>\n",
       "      <th>region</th>\n",
       "      <th>subregion</th>\n",
       "      <th>population</th>\n",
       "      <th>area</th>\n",
       "    </tr>\n",
       "  </thead>\n",
       "  <tbody>\n",
       "    <tr>\n",
       "      <th>0</th>\n",
       "      <td>Afghanistan</td>\n",
       "      <td>2015</td>\n",
       "      <td>Developing</td>\n",
       "      <td>0.1</td>\n",
       "      <td>Hepatitis B</td>\n",
       "      <td>65.0</td>\n",
       "      <td>263.0</td>\n",
       "      <td>0.479</td>\n",
       "      <td>65.0</td>\n",
       "      <td>584.259210</td>\n",
       "      <td>10.1</td>\n",
       "      <td>Afghanistan</td>\n",
       "      <td>Asia</td>\n",
       "      <td>Southern Asia</td>\n",
       "      <td>27657145</td>\n",
       "      <td>652230.0</td>\n",
       "    </tr>\n",
       "    <tr>\n",
       "      <th>1</th>\n",
       "      <td>Afghanistan</td>\n",
       "      <td>2014</td>\n",
       "      <td>Developing</td>\n",
       "      <td>0.1</td>\n",
       "      <td>Hepatitis B</td>\n",
       "      <td>59.9</td>\n",
       "      <td>271.0</td>\n",
       "      <td>0.476</td>\n",
       "      <td>62.0</td>\n",
       "      <td>612.696514</td>\n",
       "      <td>10.0</td>\n",
       "      <td>Afghanistan</td>\n",
       "      <td>Asia</td>\n",
       "      <td>Southern Asia</td>\n",
       "      <td>27657145</td>\n",
       "      <td>652230.0</td>\n",
       "    </tr>\n",
       "    <tr>\n",
       "      <th>2</th>\n",
       "      <td>Afghanistan</td>\n",
       "      <td>2013</td>\n",
       "      <td>Developing</td>\n",
       "      <td>0.1</td>\n",
       "      <td>Hepatitis B</td>\n",
       "      <td>59.9</td>\n",
       "      <td>268.0</td>\n",
       "      <td>0.470</td>\n",
       "      <td>64.0</td>\n",
       "      <td>631.744976</td>\n",
       "      <td>9.9</td>\n",
       "      <td>Afghanistan</td>\n",
       "      <td>Asia</td>\n",
       "      <td>Southern Asia</td>\n",
       "      <td>27657145</td>\n",
       "      <td>652230.0</td>\n",
       "    </tr>\n",
       "    <tr>\n",
       "      <th>3</th>\n",
       "      <td>Afghanistan</td>\n",
       "      <td>2012</td>\n",
       "      <td>Developing</td>\n",
       "      <td>0.1</td>\n",
       "      <td>Hepatitis B</td>\n",
       "      <td>59.5</td>\n",
       "      <td>272.0</td>\n",
       "      <td>0.463</td>\n",
       "      <td>67.0</td>\n",
       "      <td>669.959000</td>\n",
       "      <td>9.8</td>\n",
       "      <td>Afghanistan</td>\n",
       "      <td>Asia</td>\n",
       "      <td>Southern Asia</td>\n",
       "      <td>27657145</td>\n",
       "      <td>652230.0</td>\n",
       "    </tr>\n",
       "    <tr>\n",
       "      <th>4</th>\n",
       "      <td>Afghanistan</td>\n",
       "      <td>2011</td>\n",
       "      <td>Developing</td>\n",
       "      <td>0.1</td>\n",
       "      <td>Hepatitis B</td>\n",
       "      <td>59.2</td>\n",
       "      <td>275.0</td>\n",
       "      <td>0.454</td>\n",
       "      <td>68.0</td>\n",
       "      <td>63.537231</td>\n",
       "      <td>9.5</td>\n",
       "      <td>Afghanistan</td>\n",
       "      <td>Asia</td>\n",
       "      <td>Southern Asia</td>\n",
       "      <td>27657145</td>\n",
       "      <td>652230.0</td>\n",
       "    </tr>\n",
       "    <tr>\n",
       "      <th>...</th>\n",
       "      <td>...</td>\n",
       "      <td>...</td>\n",
       "      <td>...</td>\n",
       "      <td>...</td>\n",
       "      <td>...</td>\n",
       "      <td>...</td>\n",
       "      <td>...</td>\n",
       "      <td>...</td>\n",
       "      <td>...</td>\n",
       "      <td>...</td>\n",
       "      <td>...</td>\n",
       "      <td>...</td>\n",
       "      <td>...</td>\n",
       "      <td>...</td>\n",
       "      <td>...</td>\n",
       "      <td>...</td>\n",
       "    </tr>\n",
       "    <tr>\n",
       "      <th>8425</th>\n",
       "      <td>Zimbabwe</td>\n",
       "      <td>2004</td>\n",
       "      <td>Developing</td>\n",
       "      <td>33.6</td>\n",
       "      <td>Diphtheria</td>\n",
       "      <td>44.3</td>\n",
       "      <td>723.0</td>\n",
       "      <td>0.407</td>\n",
       "      <td>65.0</td>\n",
       "      <td>454.366654</td>\n",
       "      <td>9.2</td>\n",
       "      <td>Zimbabwe</td>\n",
       "      <td>Africa</td>\n",
       "      <td>Eastern Africa</td>\n",
       "      <td>14240168</td>\n",
       "      <td>390757.0</td>\n",
       "    </tr>\n",
       "    <tr>\n",
       "      <th>8426</th>\n",
       "      <td>Zimbabwe</td>\n",
       "      <td>2003</td>\n",
       "      <td>Developing</td>\n",
       "      <td>36.7</td>\n",
       "      <td>Diphtheria</td>\n",
       "      <td>44.5</td>\n",
       "      <td>715.0</td>\n",
       "      <td>0.418</td>\n",
       "      <td>68.0</td>\n",
       "      <td>453.351155</td>\n",
       "      <td>9.5</td>\n",
       "      <td>Zimbabwe</td>\n",
       "      <td>Africa</td>\n",
       "      <td>Eastern Africa</td>\n",
       "      <td>14240168</td>\n",
       "      <td>390757.0</td>\n",
       "    </tr>\n",
       "    <tr>\n",
       "      <th>8427</th>\n",
       "      <td>Zimbabwe</td>\n",
       "      <td>2002</td>\n",
       "      <td>Developing</td>\n",
       "      <td>39.8</td>\n",
       "      <td>Diphtheria</td>\n",
       "      <td>44.8</td>\n",
       "      <td>73.0</td>\n",
       "      <td>0.427</td>\n",
       "      <td>71.0</td>\n",
       "      <td>57.348340</td>\n",
       "      <td>10.0</td>\n",
       "      <td>Zimbabwe</td>\n",
       "      <td>Africa</td>\n",
       "      <td>Eastern Africa</td>\n",
       "      <td>14240168</td>\n",
       "      <td>390757.0</td>\n",
       "    </tr>\n",
       "    <tr>\n",
       "      <th>8428</th>\n",
       "      <td>Zimbabwe</td>\n",
       "      <td>2001</td>\n",
       "      <td>Developing</td>\n",
       "      <td>42.1</td>\n",
       "      <td>Diphtheria</td>\n",
       "      <td>45.3</td>\n",
       "      <td>686.0</td>\n",
       "      <td>0.427</td>\n",
       "      <td>75.0</td>\n",
       "      <td>548.587312</td>\n",
       "      <td>9.8</td>\n",
       "      <td>Zimbabwe</td>\n",
       "      <td>Africa</td>\n",
       "      <td>Eastern Africa</td>\n",
       "      <td>14240168</td>\n",
       "      <td>390757.0</td>\n",
       "    </tr>\n",
       "    <tr>\n",
       "      <th>8429</th>\n",
       "      <td>Zimbabwe</td>\n",
       "      <td>2000</td>\n",
       "      <td>Developing</td>\n",
       "      <td>43.5</td>\n",
       "      <td>Diphtheria</td>\n",
       "      <td>46.0</td>\n",
       "      <td>665.0</td>\n",
       "      <td>0.434</td>\n",
       "      <td>78.0</td>\n",
       "      <td>547.358879</td>\n",
       "      <td>9.8</td>\n",
       "      <td>Zimbabwe</td>\n",
       "      <td>Africa</td>\n",
       "      <td>Eastern Africa</td>\n",
       "      <td>14240168</td>\n",
       "      <td>390757.0</td>\n",
       "    </tr>\n",
       "  </tbody>\n",
       "</table>\n",
       "<p>8430 rows × 16 columns</p>\n",
       "</div>"
      ],
      "text/plain": [
       "          Country  Year      Status  HIV/AIDS Deaths      Disease  \\\n",
       "0     Afghanistan  2015  Developing              0.1  Hepatitis B   \n",
       "1     Afghanistan  2014  Developing              0.1  Hepatitis B   \n",
       "2     Afghanistan  2013  Developing              0.1  Hepatitis B   \n",
       "3     Afghanistan  2012  Developing              0.1  Hepatitis B   \n",
       "4     Afghanistan  2011  Developing              0.1  Hepatitis B   \n",
       "...           ...   ...         ...              ...          ...   \n",
       "8425     Zimbabwe  2004  Developing             33.6   Diphtheria   \n",
       "8426     Zimbabwe  2003  Developing             36.7   Diphtheria   \n",
       "8427     Zimbabwe  2002  Developing             39.8   Diphtheria   \n",
       "8428     Zimbabwe  2001  Developing             42.1   Diphtheria   \n",
       "8429     Zimbabwe  2000  Developing             43.5   Diphtheria   \n",
       "\n",
       "      Life expectancy  Adult Mortality  Income composition of resources  \\\n",
       "0                65.0            263.0                            0.479   \n",
       "1                59.9            271.0                            0.476   \n",
       "2                59.9            268.0                            0.470   \n",
       "3                59.5            272.0                            0.463   \n",
       "4                59.2            275.0                            0.454   \n",
       "...               ...              ...                              ...   \n",
       "8425             44.3            723.0                            0.407   \n",
       "8426             44.5            715.0                            0.418   \n",
       "8427             44.8             73.0                            0.427   \n",
       "8428             45.3            686.0                            0.427   \n",
       "8429             46.0            665.0                            0.434   \n",
       "\n",
       "      Immunization coverage         GDP  Schooling         name  region  \\\n",
       "0                      65.0  584.259210       10.1  Afghanistan    Asia   \n",
       "1                      62.0  612.696514       10.0  Afghanistan    Asia   \n",
       "2                      64.0  631.744976        9.9  Afghanistan    Asia   \n",
       "3                      67.0  669.959000        9.8  Afghanistan    Asia   \n",
       "4                      68.0   63.537231        9.5  Afghanistan    Asia   \n",
       "...                     ...         ...        ...          ...     ...   \n",
       "8425                   65.0  454.366654        9.2     Zimbabwe  Africa   \n",
       "8426                   68.0  453.351155        9.5     Zimbabwe  Africa   \n",
       "8427                   71.0   57.348340       10.0     Zimbabwe  Africa   \n",
       "8428                   75.0  548.587312        9.8     Zimbabwe  Africa   \n",
       "8429                   78.0  547.358879        9.8     Zimbabwe  Africa   \n",
       "\n",
       "           subregion  population      area  \n",
       "0      Southern Asia    27657145  652230.0  \n",
       "1      Southern Asia    27657145  652230.0  \n",
       "2      Southern Asia    27657145  652230.0  \n",
       "3      Southern Asia    27657145  652230.0  \n",
       "4      Southern Asia    27657145  652230.0  \n",
       "...              ...         ...       ...  \n",
       "8425  Eastern Africa    14240168  390757.0  \n",
       "8426  Eastern Africa    14240168  390757.0  \n",
       "8427  Eastern Africa    14240168  390757.0  \n",
       "8428  Eastern Africa    14240168  390757.0  \n",
       "8429  Eastern Africa    14240168  390757.0  \n",
       "\n",
       "[8430 rows x 16 columns]"
      ]
     },
     "execution_count": 9,
     "metadata": {},
     "output_type": "execute_result"
    }
   ],
   "source": [
    "expectancy_country_df = pd.merge(life_expectancy_df, country_df, left_on = \"Country\", right_on=\"name\")\n",
    "expectancy_country_df = expectancy_country_df.loc[:, ~expectancy_country_df.columns.str.contains('^Unnamed')]\n",
    "expectancy_country_df"
   ]
  },
  {
   "cell_type": "markdown",
   "metadata": {},
   "source": [
    "In order to be able to measure the quality of healthcare we engineer a new feature. We know that life expectancy and adult mortality are indicators of health, thus we combine them into a new feature.\n",
    "We know that life expectancy and adult mortality are indicators of good health, and that means that the quality of healthcare in a country is good. We combine these 2 features to be a full indicator of the standard of health in a place.\n",
    "\n",
    "Since the features have different scales, we scale them using min max scaler to be in the range of 1-2. Then we compute the healthcare index using the formula. \n",
    "\n",
    "$ \\textrm{Health care Index} = \\dfrac{\\textrm{Life expectancy}}{\\textrm{Adult mortality}} $\n",
    "\n",
    "When this indicator is high, it indicates good quality of healthcare because this typically means high life expectancy and low adult mortality. A low number is a bad indicator. The value that this indicator adds is that we can have a measure of both adult mortality and life expectancy in one place. We have the power of both indicators instead of using just one of them which might give us a biased view.\n"
   ]
  },
  {
   "cell_type": "code",
   "execution_count": 10,
   "metadata": {},
   "outputs": [],
   "source": [
    "scaler = MinMaxScaler(feature_range = [1,2])\n",
    "\n",
    "expectancy_country_df[\"Health index\"] = scaler.fit_transform(np.array(expectancy_country_df[\"Life expectancy\"]).reshape(-1, 1))/ scaler.fit_transform(np.array(expectancy_country_df[\"Adult Mortality\"]).reshape(-1, 1))"
   ]
  },
  {
   "cell_type": "code",
   "execution_count": 11,
   "metadata": {},
   "outputs": [
    {
     "data": {
      "text/html": [
       "<div>\n",
       "<style scoped>\n",
       "    .dataframe tbody tr th:only-of-type {\n",
       "        vertical-align: middle;\n",
       "    }\n",
       "\n",
       "    .dataframe tbody tr th {\n",
       "        vertical-align: top;\n",
       "    }\n",
       "\n",
       "    .dataframe thead th {\n",
       "        text-align: right;\n",
       "    }\n",
       "</style>\n",
       "<table border=\"1\" class=\"dataframe\">\n",
       "  <thead>\n",
       "    <tr style=\"text-align: right;\">\n",
       "      <th></th>\n",
       "      <th>Country</th>\n",
       "      <th>Year</th>\n",
       "      <th>Status</th>\n",
       "      <th>HIV/AIDS Deaths</th>\n",
       "      <th>Disease</th>\n",
       "      <th>Life expectancy</th>\n",
       "      <th>Adult Mortality</th>\n",
       "      <th>Income composition of resources</th>\n",
       "      <th>Immunization coverage</th>\n",
       "      <th>GDP</th>\n",
       "      <th>Schooling</th>\n",
       "      <th>name</th>\n",
       "      <th>region</th>\n",
       "      <th>subregion</th>\n",
       "      <th>population</th>\n",
       "      <th>area</th>\n",
       "      <th>Health index</th>\n",
       "    </tr>\n",
       "  </thead>\n",
       "  <tbody>\n",
       "    <tr>\n",
       "      <th>0</th>\n",
       "      <td>Afghanistan</td>\n",
       "      <td>2015</td>\n",
       "      <td>Developing</td>\n",
       "      <td>0.1</td>\n",
       "      <td>Hepatitis B</td>\n",
       "      <td>65.0</td>\n",
       "      <td>263.0</td>\n",
       "      <td>0.479</td>\n",
       "      <td>65.0</td>\n",
       "      <td>584.259210</td>\n",
       "      <td>10.1</td>\n",
       "      <td>Afghanistan</td>\n",
       "      <td>Asia</td>\n",
       "      <td>Southern Asia</td>\n",
       "      <td>27657145</td>\n",
       "      <td>652230.0</td>\n",
       "      <td>1.137035</td>\n",
       "    </tr>\n",
       "    <tr>\n",
       "      <th>1</th>\n",
       "      <td>Afghanistan</td>\n",
       "      <td>2014</td>\n",
       "      <td>Developing</td>\n",
       "      <td>0.1</td>\n",
       "      <td>Hepatitis B</td>\n",
       "      <td>59.9</td>\n",
       "      <td>271.0</td>\n",
       "      <td>0.476</td>\n",
       "      <td>62.0</td>\n",
       "      <td>612.696514</td>\n",
       "      <td>10.0</td>\n",
       "      <td>Afghanistan</td>\n",
       "      <td>Asia</td>\n",
       "      <td>Southern Asia</td>\n",
       "      <td>27657145</td>\n",
       "      <td>652230.0</td>\n",
       "      <td>1.057113</td>\n",
       "    </tr>\n",
       "    <tr>\n",
       "      <th>2</th>\n",
       "      <td>Afghanistan</td>\n",
       "      <td>2013</td>\n",
       "      <td>Developing</td>\n",
       "      <td>0.1</td>\n",
       "      <td>Hepatitis B</td>\n",
       "      <td>59.9</td>\n",
       "      <td>268.0</td>\n",
       "      <td>0.470</td>\n",
       "      <td>64.0</td>\n",
       "      <td>631.744976</td>\n",
       "      <td>9.9</td>\n",
       "      <td>Afghanistan</td>\n",
       "      <td>Asia</td>\n",
       "      <td>Southern Asia</td>\n",
       "      <td>27657145</td>\n",
       "      <td>652230.0</td>\n",
       "      <td>1.060353</td>\n",
       "    </tr>\n",
       "    <tr>\n",
       "      <th>3</th>\n",
       "      <td>Afghanistan</td>\n",
       "      <td>2012</td>\n",
       "      <td>Developing</td>\n",
       "      <td>0.1</td>\n",
       "      <td>Hepatitis B</td>\n",
       "      <td>59.5</td>\n",
       "      <td>272.0</td>\n",
       "      <td>0.463</td>\n",
       "      <td>67.0</td>\n",
       "      <td>669.959000</td>\n",
       "      <td>9.8</td>\n",
       "      <td>Afghanistan</td>\n",
       "      <td>Asia</td>\n",
       "      <td>Southern Asia</td>\n",
       "      <td>27657145</td>\n",
       "      <td>652230.0</td>\n",
       "      <td>1.050502</td>\n",
       "    </tr>\n",
       "    <tr>\n",
       "      <th>4</th>\n",
       "      <td>Afghanistan</td>\n",
       "      <td>2011</td>\n",
       "      <td>Developing</td>\n",
       "      <td>0.1</td>\n",
       "      <td>Hepatitis B</td>\n",
       "      <td>59.2</td>\n",
       "      <td>275.0</td>\n",
       "      <td>0.454</td>\n",
       "      <td>68.0</td>\n",
       "      <td>63.537231</td>\n",
       "      <td>9.5</td>\n",
       "      <td>Afghanistan</td>\n",
       "      <td>Asia</td>\n",
       "      <td>Southern Asia</td>\n",
       "      <td>27657145</td>\n",
       "      <td>652230.0</td>\n",
       "      <td>1.043166</td>\n",
       "    </tr>\n",
       "  </tbody>\n",
       "</table>\n",
       "</div>"
      ],
      "text/plain": [
       "       Country  Year      Status  HIV/AIDS Deaths      Disease  \\\n",
       "0  Afghanistan  2015  Developing              0.1  Hepatitis B   \n",
       "1  Afghanistan  2014  Developing              0.1  Hepatitis B   \n",
       "2  Afghanistan  2013  Developing              0.1  Hepatitis B   \n",
       "3  Afghanistan  2012  Developing              0.1  Hepatitis B   \n",
       "4  Afghanistan  2011  Developing              0.1  Hepatitis B   \n",
       "\n",
       "   Life expectancy  Adult Mortality  Income composition of resources  \\\n",
       "0             65.0            263.0                            0.479   \n",
       "1             59.9            271.0                            0.476   \n",
       "2             59.9            268.0                            0.470   \n",
       "3             59.5            272.0                            0.463   \n",
       "4             59.2            275.0                            0.454   \n",
       "\n",
       "   Immunization coverage         GDP  Schooling         name region  \\\n",
       "0                   65.0  584.259210       10.1  Afghanistan   Asia   \n",
       "1                   62.0  612.696514       10.0  Afghanistan   Asia   \n",
       "2                   64.0  631.744976        9.9  Afghanistan   Asia   \n",
       "3                   67.0  669.959000        9.8  Afghanistan   Asia   \n",
       "4                   68.0   63.537231        9.5  Afghanistan   Asia   \n",
       "\n",
       "       subregion  population      area  Health index  \n",
       "0  Southern Asia    27657145  652230.0      1.137035  \n",
       "1  Southern Asia    27657145  652230.0      1.057113  \n",
       "2  Southern Asia    27657145  652230.0      1.060353  \n",
       "3  Southern Asia    27657145  652230.0      1.050502  \n",
       "4  Southern Asia    27657145  652230.0      1.043166  "
      ]
     },
     "execution_count": 11,
     "metadata": {},
     "output_type": "execute_result"
    }
   ],
   "source": [
    "expectancy_country_df.head()"
   ]
  },
  {
   "cell_type": "code",
   "execution_count": 12,
   "metadata": {},
   "outputs": [
    {
     "data": {
      "image/png": "[encoded data removed]",
      "text/plain": [
       "<Figure size 720x360 with 1 Axes>"
      ]
     },
     "metadata": {
      "needs_background": "light"
     },
     "output_type": "display_data"
    }
   ],
   "source": [
    "expectancy_country_df_copy_2015 = expectancy_country_df.copy(deep = True).drop_duplicates(subset = [\"Country\"], keep=\"first\")\n",
    "fig = plt.figure(figsize = (10, 5)) \n",
    "\n",
    "\n",
    "regions =[\"Africa\" ,\"Americas\",\"Asia\" ,\"Europe\",\"Oceania\"]\n",
    "values = expectancy_country_df_copy_2015.groupby([\"region\"])[\"Health index\"].median()\n",
    "# creating the bar plot \n",
    "plt.bar(regions, values, color ='maroon',   width = 0.4) \n",
    "  \n",
    "plt.xlabel(\"Region\") \n",
    "plt.ylabel(\"Health index\") \n",
    "plt.title(\"Region and health index\") \n",
    "plt.show() "
   ]
  },
  {
   "cell_type": "code",
   "execution_count": 13,
   "metadata": {},
   "outputs": [
    {
     "data": {
      "image/png": "[encoded data removed]",
      "text/plain": [
       "<Figure size 720x360 with 1 Axes>"
      ]
     },
     "metadata": {
      "needs_background": "light"
     },
     "output_type": "display_data"
    }
   ],
   "source": [
    "\n",
    "expectancy_country_df_copy_2000 = expectancy_country_df.copy(deep = True).drop_duplicates(subset = [\"Country\"], keep=\"last\")\n",
    "fig = plt.figure(figsize = (10, 5)) \n",
    "\n",
    "\n",
    "regions =[\"Africa\" ,\"Americas\",\"Asia\" ,\"Europe\",\"Oceania\"]\n",
    "values = expectancy_country_df_copy_2000.groupby([\"region\"])[\"Health index\"].median()\n",
    "# creating the bar plot \n",
    "plt.bar(regions, values, color ='maroon',   width = 0.4) \n",
    "  \n",
    "plt.xlabel(\"Region\") \n",
    "plt.ylabel(\"Health index\") \n",
    "plt.title(\"Region and health index\") \n",
    "plt.show() "
   ]
  },
  {
   "cell_type": "markdown",
   "metadata": {},
   "source": [
    "As we can see from the plots above there wasnt any drastic change in the health quality index median value of each region throughout years to 2000 to 2015 therefore we use the most recent data for the next sections"
   ]
  },
  {
   "cell_type": "markdown",
   "metadata": {},
   "source": [
    "The health index is the highest in Europe and lowest in Africa. This reflects the fact that health quality is lowest in Africa and highest in Europe. Lets dig deeper and see how the subregions are doing."
   ]
  },
  {
   "cell_type": "code",
   "execution_count": 14,
   "metadata": {},
   "outputs": [],
   "source": [
    "expectancy_country_df_copy=expectancy_country_df_copy_2015"
   ]
  },
  {
   "cell_type": "code",
   "execution_count": 15,
   "metadata": {},
   "outputs": [
    {
     "data": {
      "image/png": "[encoded data removed]",
      "text/plain": [
       "<Figure size 720x360 with 1 Axes>"
      ]
     },
     "metadata": {
      "needs_background": "light"
     },
     "output_type": "display_data"
    }
   ],
   "source": [
    "fig = plt.figure(figsize = (10, 5)) \n",
    "subregions =  np.sort(expectancy_country_df_copy.subregion.unique())\n",
    "values = expectancy_country_df_copy.groupby([\"subregion\"])[\"Health index\"].median()\n",
    "#display(values)\n",
    "dict_subregions = {}\n",
    "for i in range(0,  len(values)):\n",
    "    dict_subregions[str(subregions[i])] = values[i]\n",
    "region_map =[]\n",
    "\n",
    "for sub in subregions:\n",
    "    sort_val = 4\n",
    "    if(\"Africa\" in sub):\n",
    "        sort_val = 0\n",
    "    if(\"Europe\" in sub):\n",
    "        sort_val = 1\n",
    "    if(\"Asia\" in sub):\n",
    "        sort_val = 2\n",
    "    if(\"America\" in sub):\n",
    "        sort_val = 3\n",
    "    region_map.append([sort_val, sub, dict_subregions[str(sub)]])\n",
    "region_map = pd.DataFrame(region_map, columns = [\"region_key\",\"subregion\",\"health index\"])\n",
    "region_map=region_map.sort_values(by=\"region_key\")\n",
    "\n",
    "# creating the bar plot \n",
    "plt.bar(region_map[\"subregion\"], region_map[\"health index\"],   width = 0.4) \n",
    "  \n",
    "plt.xlabel(\"subregion\") \n",
    "plt.ylabel(\"Health index\") \n",
    "plt.title(\"subregion and health index\") \n",
    "plt.xticks(rotation=90)\n",
    "plt.show() \n"
   ]
  },
  {
   "cell_type": "markdown",
   "metadata": {},
   "source": [
    "In the African region, the best performing subregion is northern africa, and the poorest performer is south africa. In Europe all subregions have a high performance and are close to each other, except Eastern Europe which has a lower performance in terms of the health quality index. Interestingly, North America performs better than all other subregions, but seemed to have a lower performance in the graph previous to this one. This is due to the fact that in the previous graph we grouped both Americas together and it is noted that South America has a performance lower than most Europian regions. In addition, Austrailia and New Zealand have a great performance too that is comparable to North America. Asian regions are in the middle between the African and American regions with central Asia performing the worst among the Asian regions."
   ]
  },
  {
   "cell_type": "markdown",
   "metadata": {},
   "source": [
    "#### Why could this be the case?"
   ]
  },
  {
   "cell_type": "markdown",
   "metadata": {},
   "source": [
    "Lets explore some features and see how they correlate in each region"
   ]
  },
  {
   "cell_type": "code",
   "execution_count": 16,
   "metadata": {},
   "outputs": [
    {
     "data": {
      "image/png": "[encoded data removed]",
      "text/plain": [
       "<Figure size 720x360 with 1 Axes>"
      ]
     },
     "metadata": {
      "needs_background": "light"
     },
     "output_type": "display_data"
    }
   ],
   "source": [
    "fig = plt.figure(figsize = (10, 5)) \n",
    "regions =[\"Africa\" ,\"Americas\",\"Asia\" ,\"Europe\",\"Oceania\"]\n",
    "values = expectancy_country_df_copy.groupby([\"region\"])[\"Immunization coverage\"].median()\n",
    "# creating the bar plot \n",
    "plt.bar(regions, values, color ='orange',   width = 0.4) \n",
    "  \n",
    "plt.xlabel(\"Region\") \n",
    "plt.ylabel(\"Immunization coverage\") \n",
    "plt.title(\"Region and Immunization coverage\") \n",
    "plt.show() "
   ]
  },
  {
   "cell_type": "code",
   "execution_count": 17,
   "metadata": {},
   "outputs": [
    {
     "data": {
      "image/png": "[encoded data removed]",
      "text/plain": [
       "<Figure size 720x360 with 1 Axes>"
      ]
     },
     "metadata": {
      "needs_background": "light"
     },
     "output_type": "display_data"
    }
   ],
   "source": [
    "fig = plt.figure(figsize = (10, 5)) \n",
    "regions =[\"Africa\" ,\"Americas\",\"Asia\" ,\"Europe\",\"Oceania\"]\n",
    "values = expectancy_country_df_copy.groupby([\"region\"])[\"Schooling\"].median()\n",
    "# creating the bar plot \n",
    "plt.bar(regions, values, color ='pink',   width = 0.4) \n",
    "  \n",
    "plt.xlabel(\"Region\") \n",
    "plt.ylabel(\"Schooling\") \n",
    "plt.title(\"Region and Schooling\") \n",
    "plt.show() "
   ]
  },
  {
   "cell_type": "code",
   "execution_count": 18,
   "metadata": {},
   "outputs": [
    {
     "data": {
      "image/png": "[encoded data removed]",
      "text/plain": [
       "<Figure size 720x360 with 1 Axes>"
      ]
     },
     "metadata": {
      "needs_background": "light"
     },
     "output_type": "display_data"
    }
   ],
   "source": [
    "fig = plt.figure(figsize = (10, 5)) \n",
    "regions =[\"Africa\" ,\"Americas\",\"Asia\" ,\"Europe\",\"Oceania\"]\n",
    "values = expectancy_country_df_copy.groupby([\"region\"])[\"area\"].median()\n",
    "# creating the bar plot \n",
    "plt.bar(regions, values, color ='rebeccapurple',   width = 0.4) \n",
    "  \n",
    "plt.xlabel(\"Region\") \n",
    "plt.ylabel(\"area\") \n",
    "plt.title(\"Area and region\") \n",
    "plt.show() "
   ]
  },
  {
   "cell_type": "markdown",
   "metadata": {},
   "source": [
    "From the above graphs we can see that there is a strong correlation between immunization and health quality as the regions that vaccinate the most have a higher value for the health quality index. In addition years of schooling resemble some correlation because the regions with the lowest schooling years typically have lower health quality than those that have a higher number of  schooling years. Finally, area does not have a very strong relationship with the health quality. Regions with the smallest areas typically have higher health index values however as we can see Oceania region is significantly smaller than Asia however their health quality index is very similar.\n",
    "Lets confirm that region is an important factor."
   ]
  }
 ],
 "metadata": {
  "kernelspec": {
   "display_name": "Python 3",
   "language": "python",
   "name": "python3"
  },
  "language_info": {
   "codemirror_mode": {
    "name": "ipython",
    "version": 3
   },
   "file_extension": ".py",
   "mimetype": "text/x-python",
   "name": "python",
   "nbconvert_exporter": "python",
   "pygments_lexer": "ipython3",
   "version": "3.7.1"
  }
 },
 "nbformat": 4,
 "nbformat_minor": 4
}
