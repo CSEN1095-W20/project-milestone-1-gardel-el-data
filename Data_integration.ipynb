{
  "nbformat": 4,
  "nbformat_minor": 0,
  "metadata": {
    "colab": {
      "name": "Data_integration.ipynb",
      "provenance": [],
      "collapsed_sections": []
    },
    "kernelspec": {
      "name": "python3",
      "display_name": "Python 3"
    }
  },
  "cells": [
    {
      "cell_type": "code",
      "metadata": {
        "id": "ndQ3R6xNqjyR"
      },
      "source": [
        "import pandas as pd\r\n",
        "import numpy as np"
      ],
      "execution_count": 2,
      "outputs": []
    },
    {
      "cell_type": "code",
      "metadata": {
        "id": "il7j-QzeqMRO"
      },
      "source": [
        "last_column_2015 = 158*[2015]\r\n",
        "last_column_2016 = 158*[2016]\r\n",
        "last_column_2017 = 158*[2017]\r\n",
        "last_column_2018 = 158*[2018]\r\n",
        "last_column_2019 = 158*[2019]\r\n",
        "df_Years_2015 = pd.DataFrame({'Year': last_column_2015})\r\n",
        "df_Years_2016 = pd.DataFrame({'Year': last_column_2015})\r\n",
        "df_Years_2017 = pd.DataFrame({'Year': last_column_2017})\r\n",
        "df_Years_2018= pd.DataFrame({'Year': last_column_2018})\r\n",
        "df_Years_2019 = pd.DataFrame({'Year': last_column_2019})"
      ],
      "execution_count": 3,
      "outputs": []
    },
    {
      "cell_type": "code",
      "metadata": {
        "colab": {
          "base_uri": "https://localhost:8080/"
        },
        "id": "knsWqaBzqO2c",
        "outputId": "a59f85a7-cfd7-436b-f900-39f693c9b1aa"
      },
      "source": [
        "print(df_Years_2015)"
      ],
      "execution_count": 4,
      "outputs": [
        {
          "output_type": "stream",
          "text": [
            "     Year\n",
            "0    2015\n",
            "1    2015\n",
            "2    2015\n",
            "3    2015\n",
            "4    2015\n",
            "..    ...\n",
            "153  2015\n",
            "154  2015\n",
            "155  2015\n",
            "156  2015\n",
            "157  2015\n",
            "\n",
            "[158 rows x 1 columns]\n"
          ],
          "name": "stdout"
        }
      ]
    },
    {
      "cell_type": "code",
      "metadata": {
        "id": "_qGSWPI8LXaW"
      },
      "source": [
        "df_happinies_2015 = pd.read_csv('2015.csv')\r\n",
        "df_happinies_2016 = pd.read_csv('2016.csv')\r\n",
        "df_happinies_2017 = pd.read_csv('2017.csv')\r\n",
        "df_happinies_2018 = pd.read_csv('2018.csv')\r\n",
        "df_happinies_2019 = pd.read_csv('2019.csv')\r\n",
        "df_Integrated_Happiness_Data = pd.read_csv('Integrated_Happiness_Data.csv')\r\n",
        "df_250_Country_Data = pd.read_csv('250 Country Data.csv')"
      ],
      "execution_count": 40,
      "outputs": []
    },
    {
      "cell_type": "code",
      "metadata": {
        "id": "Wvi43VycJ0N4"
      },
      "source": [
        "df_happinies_2015_WithLastColumn=pd.concat([df_happinies_2015, df_Years_2015],axis=1)\r\n"
      ],
      "execution_count": 6,
      "outputs": []
    },
    {
      "cell_type": "code",
      "metadata": {
        "id": "Cv--TktmLjAs"
      },
      "source": [
        "df_happinies_2016_WithLastColumn=pd.concat([df_happinies_2016, df_Years_2016],axis=1)\r\n",
        "\r\n"
      ],
      "execution_count": 7,
      "outputs": []
    },
    {
      "cell_type": "code",
      "metadata": {
        "id": "C1LLS8pJL3CE"
      },
      "source": [
        "df_happinies_2017_WithLastColumn=pd.concat([df_happinies_2017, df_Years_2017],axis=1)\r\n"
      ],
      "execution_count": 8,
      "outputs": []
    },
    {
      "cell_type": "code",
      "metadata": {
        "id": "r9CSoRhcL40x"
      },
      "source": [
        "df_happinies_2018_WithLastColumn =pd.concat([df_happinies_2018, df_Years_2018],axis=1)\r\n"
      ],
      "execution_count": 9,
      "outputs": []
    },
    {
      "cell_type": "code",
      "metadata": {
        "id": "7dY0g2tgL6jO"
      },
      "source": [
        "df_happinies_2019_WithLastColumn=pd.concat([df_happinies_2019, df_Years_2019],axis=1)"
      ],
      "execution_count": 10,
      "outputs": []
    },
    {
      "cell_type": "code",
      "metadata": {
        "id": "nM3hQkW8L7dO"
      },
      "source": [
        "df = pd.concat([(pd.concat([(pd.concat([(pd.concat([df_happinies_2015_WithLastColumn, df_happinies_2016_WithLastColumn], axis=0)),\r\n",
        "                                   df_happinies_2017_WithLastColumn], axis = 0)),\r\n",
        "           df_happinies_2018_WithLastColumn], axis = 0)),df_happinies_2019_WithLastColumn], axis = 0)\r\n",
        "##df.to_csv(index=False)\r\n",
        "#df = pd.concat([df_happinies_2015_WithLastColumn, df_happinies_2016_WithLastColumn], axis=0)\r\n",
        "#print(df[\"Unnamed: 0\"])\r\n",
        "\r\n",
        "\r\n",
        "df.drop(columns=[\"Unnamed: 0\"],inplace = True)\r\n",
        "#df.to_csv(\"hi.csv\")\r\n",
        "\r\n",
        "#print(df)\r\n",
        "\r\n",
        "\r\n"
      ],
      "execution_count": 31,
      "outputs": []
    },
    {
      "cell_type": "code",
      "metadata": {
        "colab": {
          "base_uri": "https://localhost:8080/"
        },
        "id": "XjrEwBJmYAwv",
        "outputId": "4ffbafe9-8da9-4b16-b05e-9a00825a3934"
      },
      "source": [
        "df.sort_values(by=['Happiness Rank'], inplace = True)\r\n",
        "print(df.iloc[:,2:])"
      ],
      "execution_count": 33,
      "outputs": [
        {
          "output_type": "stream",
          "text": [
            "     Happiness Rank  Happiness Score  ...  Cluster  Year\n",
            "0                 1            7.587  ...        2  2015\n",
            "0                 1            7.587  ...        2  2017\n",
            "0                 1            7.587  ...        2  2015\n",
            "0                 1            7.587  ...        2  2019\n",
            "0                 1            7.587  ...        2  2018\n",
            "..              ...              ...  ...      ...   ...\n",
            "157             158            2.839  ...        0  2018\n",
            "157             158            2.839  ...        0  2015\n",
            "157             158            2.839  ...        0  2015\n",
            "157             158            2.839  ...        0  2017\n",
            "157             158            2.839  ...        0  2019\n",
            "\n",
            "[790 rows x 12 columns]\n"
          ],
          "name": "stdout"
        }
      ]
    },
    {
      "cell_type": "code",
      "metadata": {
        "id": "2cpLsizEQpT1"
      },
      "source": [
        "df.to_csv(\"Integrated_Happiness_Data.csv\")"
      ],
      "execution_count": 35,
      "outputs": []
    },
    {
      "cell_type": "code",
      "metadata": {
        "id": "_Di7RJUCXdlC"
      },
      "source": [
        "Inegrated_data = pd.merge(df_Integrated_Happiness_Data, df_250_Country_Data,left_on=\"Country\", right_on=\"name\", how='left')\r\n",
        "Inegrated_data.drop(columns=[\"Unnamed: 0_x\"],inplace = True)\r\n",
        "Inegrated_data.drop(columns=[\"Unnamed: 0_y\"],inplace = True)\r\n",
        "Inegrated_data.drop(columns=[\"Unnamed: 0.1\"],inplace = True)\r\n",
        "Inegrated_data.to_csv(\"Integrated_Happiness_Country_Data.csv\")"
      ],
      "execution_count": 53,
      "outputs": []
    },
    {
      "cell_type": "code",
      "metadata": {
        "colab": {
          "base_uri": "https://localhost:8080/"
        },
        "id": "2LhkxqANMPmk",
        "outputId": "710da3d4-d26c-4504-fc98-81c5a7fdd458"
      },
      "source": [
        "print(Inegrated_data)"
      ],
      "execution_count": 54,
      "outputs": [
        {
          "output_type": "stream",
          "text": [
            "         Country              Region  ...  population     area\n",
            "0    Switzerland      Western Europe  ...   8341600.0  41284.0\n",
            "1    Switzerland      Western Europe  ...   8341600.0  41284.0\n",
            "2    Switzerland      Western Europe  ...   8341600.0  41284.0\n",
            "3    Switzerland      Western Europe  ...   8341600.0  41284.0\n",
            "4    Switzerland      Western Europe  ...   8341600.0  41284.0\n",
            "..           ...                 ...  ...         ...      ...\n",
            "785         Togo  Sub-Saharan Africa  ...   7143000.0  56785.0\n",
            "786         Togo  Sub-Saharan Africa  ...   7143000.0  56785.0\n",
            "787         Togo  Sub-Saharan Africa  ...   7143000.0  56785.0\n",
            "788         Togo  Sub-Saharan Africa  ...   7143000.0  56785.0\n",
            "789         Togo  Sub-Saharan Africa  ...   7143000.0  56785.0\n",
            "\n",
            "[790 rows x 19 columns]\n"
          ],
          "name": "stdout"
        }
      ]
    },
    {
      "cell_type": "code",
      "metadata": {
        "id": "rXi56oq5PfN_"
      },
      "source": [
        ""
      ],
      "execution_count": null,
      "outputs": []
    }
  ]
}