{
 "cells": [
  {
   "cell_type": "code",
   "execution_count": 1,
   "metadata": {},
   "outputs": [],
   "source": [
    "import matplotlib.pyplot as plt\n",
    "import pandas as pd\n",
    "import numpy as np\n",
    "import seaborn as sns"
   ]
  },
  {
   "cell_type": "code",
   "execution_count": 2,
   "metadata": {},
   "outputs": [],
   "source": [
    "root_path_Integrated='Integrated_Data/'\n",
    "df_integrated_happinies = pd.read_csv(root_path_Integrated+'Integrated_Happiness.csv')"
   ]
  },
  {
   "cell_type": "markdown",
   "metadata": {},
   "source": [
    "We choose 2 countries to preforme Twitter Sentiment Analysis on them."
   ]
  },
  {
   "cell_type": "code",
   "execution_count": 3,
   "metadata": {},
   "outputs": [
    {
     "data": {
      "text/plain": [
       "(131.2, -5.2)"
      ]
     },
     "execution_count": 3,
     "metadata": {},
     "output_type": "execute_result"
    },
    {
     "data": {
      "image/png": "[encoded data removed]",
      "text/plain": [
       "<Figure size 432x288 with 1 Axes>"
      ]
     },
     "metadata": {
      "needs_background": "light"
     },
     "output_type": "display_data"
    }
   ],
   "source": [
    "Finland=df_integrated_happinies[df_integrated_happinies['Country'] == \"Finland\"]\n",
    "Kenya=df_integrated_happinies[df_integrated_happinies['Country'] == \"Kenya\"]\n",
    "fig, ax = plt.subplots()\n",
    "ax.plot(Finland['Year'],Finland['Happiness Rank'] ,label=\"Finland\")\n",
    "ax.plot(Kenya['Year'],Kenya['Happiness Rank'] ,label=\"Kenya\")\n",
    "ax = plt.gca()\n",
    "leg = ax.legend();\n",
    "ax.set_ylim(ax.get_ylim()[::-1])"
   ]
  },
  {
   "cell_type": "markdown",
   "metadata": {},
   "source": [
    "We choosed Finland as a happy country, as its happenies has been rising till 2019, and Kenya as a sad country as their rank was almost consistant across the years, and both countries use twitter daily which will help with the analysis"
   ]
  },
  {
   "cell_type": "markdown",
   "metadata": {},
   "source": [
    "Creating csv file to save the Timestamps"
   ]
  },
  {
   "cell_type": "code",
   "execution_count": 4,
   "metadata": {},
   "outputs": [],
   "source": [
    "df = pd.DataFrame([], columns = ['Happiness Score', 'TimeStamp']) \n",
    "root_path='Twitter_Analysis/'\n",
    "df.to_csv(root_path+\"Twitter_Analysis.csv\")"
   ]
  }
 ],
 "metadata": {
  "kernelspec": {
   "display_name": "Python 3",
   "language": "python",
   "name": "python3"
  },
  "language_info": {
   "codemirror_mode": {
    "name": "ipython",
    "version": 3
   },
   "file_extension": ".py",
   "mimetype": "text/x-python",
   "name": "python",
   "nbconvert_exporter": "python",
   "pygments_lexer": "ipython3",
   "version": "3.7.1"
  }
 },
 "nbformat": 4,
 "nbformat_minor": 4
}
