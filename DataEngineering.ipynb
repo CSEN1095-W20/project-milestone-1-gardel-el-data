{
 "cells": [
  {
   "cell_type": "code",
   "execution_count": 1,
   "metadata": {},
   "outputs": [],
   "source": [
    "# M1 -> Cleaning, tidying and visualizations\n",
    "# M2 -> Feature Engineering and pipeline\n",
    "import numpy as np\n",
    "import os\n",
    "import pandas as pd\n",
    "import matplotlib.pyplot as plt\n",
    "import seaborn as sns; sns.set_theme()\n",
    "from sklearn import preprocessing"
   ]
  },
  {
   "cell_type": "markdown",
   "metadata": {},
   "source": [
    "Reading Data"
   ]
  },
  {
   "cell_type": "code",
   "execution_count": 3,
   "metadata": {},
   "outputs": [],
   "source": [
    "root_path_happiness = 'Data/Happiness_Dataset'\n",
    "world_happiness_2015_df = pd.read_csv(root_path_happiness + '/2015.csv')\n",
    "world_happiness_2016_df = pd.read_csv(root_path_happiness + '/2016.csv')\n",
    "world_happiness_2017_df = pd.read_csv(root_path_happiness + '/2017.csv')\n",
    "world_happiness_2018_df = pd.read_csv(root_path_happiness + '/2018.csv')\n",
    "world_happiness_2019_df = pd.read_csv(root_path_happiness + '/2019.csv')\n",
    "life_expectancy_df = pd.read_csv('Data/Life Expectancy Data.csv')\n",
    "country_data_df = pd.read_csv('Data/250 Country Data.csv')"
   ]
  },
  {
   "cell_type": "code",
   "execution_count": null,
   "metadata": {},
   "outputs": [],
   "source": []
  }
 ],
 "metadata": {
  "kernelspec": {
   "display_name": "Python 3",
   "language": "python",
   "name": "python3"
  },
  "language_info": {
   "codemirror_mode": {
    "name": "ipython",
    "version": 3
   },
   "file_extension": ".py",
   "mimetype": "text/x-python",
   "name": "python",
   "nbconvert_exporter": "python",
   "pygments_lexer": "ipython3",
   "version": "3.7.6"
  }
 },
 "nbformat": 4,
 "nbformat_minor": 4
}
