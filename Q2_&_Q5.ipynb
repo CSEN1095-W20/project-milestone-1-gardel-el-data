{
  "nbformat": 4,
  "nbformat_minor": 0,
  "metadata": {
    "colab": {
      "name": "Q2 & Q5",
      "provenance": [],
      "collapsed_sections": []
    },
    "kernelspec": {
      "name": "python3",
      "display_name": "Python 3"
    }
  },
  "cells": [
    {
      "cell_type": "markdown",
      "metadata": {
        "id": "Bw8RZO8SZnsB"
      },
      "source": [
        "#How does happiness change over time for each region?\r\n"
      ]
    },
    {
      "cell_type": "code",
      "metadata": {
        "id": "s3LZBmoesZdo"
      },
      "source": [
        "import matplotlib.pyplot as plt\r\n",
        "import pandas as pd\r\n",
        "import numpy as np"
      ],
      "execution_count": null,
      "outputs": []
    },
    {
      "cell_type": "code",
      "metadata": {
        "id": "xkBfvDbYsPej"
      },
      "source": [
        "df_happinies_2015 = pd.read_csv('2015.csv')\r\n",
        "df_happinies_2016 = pd.read_csv('2016.csv')\r\n",
        "df_happinies_2017 = pd.read_csv('2017.csv')\r\n",
        "df_happinies_2018 = pd.read_csv('2018.csv')\r\n",
        "df_happinies_2019 = pd.read_csv('2019.csv')"
      ],
      "execution_count": 7,
      "outputs": []
    },
    {
      "cell_type": "markdown",
      "metadata": {
        "id": "Nh9VCgyYxZKf"
      },
      "source": [
        "df_happinies_2016.Region.unique()"
      ]
    },
    {
      "cell_type": "code",
      "metadata": {
        "colab": {
          "base_uri": "https://localhost:8080/"
        },
        "id": "t9upL4epvxAa",
        "outputId": "3e3fc99c-8b8b-4eec-9dd1-3fed6cc0efd6"
      },
      "source": [
        "df_happinies_2015.Region.unique()\r\n",
        "\r\n"
      ],
      "execution_count": 8,
      "outputs": [
        {
          "output_type": "execute_result",
          "data": {
            "text/plain": [
              "array(['Western Europe', 'North America', 'Australia and New Zealand',\n",
              "       'Middle East and Northern Africa', 'Latin America and Caribbean',\n",
              "       'Southeastern Asia', 'Central and Eastern Europe', 'Eastern Asia',\n",
              "       'Sub-Saharan Africa', 'Southern Asia'], dtype=object)"
            ]
          },
          "metadata": {
            "tags": []
          },
          "execution_count": 8
        }
      ]
    },
    {
      "cell_type": "code",
      "metadata": {
        "colab": {
          "base_uri": "https://localhost:8080/"
        },
        "id": "Vf8QEuTmZQu6",
        "outputId": "1b076ba4-b286-4873-e867-b7b61089e537"
      },
      "source": [
        "df_happinies_2016.Region.unique()\r\n",
        "\r\n"
      ],
      "execution_count": 86,
      "outputs": [
        {
          "output_type": "execute_result",
          "data": {
            "text/plain": [
              "array(['Western Europe', 'North America', 'Australia and New Zealand',\n",
              "       'Middle East and Northern Africa', 'Latin America and Caribbean',\n",
              "       'Southeastern Asia', 'Central and Eastern Europe', 'Eastern Asia',\n",
              "       'Sub-Saharan Africa', 'Southern Asia'], dtype=object)"
            ]
          },
          "metadata": {
            "tags": []
          },
          "execution_count": 86
        }
      ]
    },
    {
      "cell_type": "markdown",
      "metadata": {
        "id": "ZYFS3XHGY8yx"
      },
      "source": [
        ""
      ]
    },
    {
      "cell_type": "code",
      "metadata": {
        "colab": {
          "base_uri": "https://localhost:8080/"
        },
        "id": "oLFpzM7wxeYy",
        "outputId": "62c5078f-3c58-40c1-d4c7-c99f9b40cf43"
      },
      "source": [
        "df_happinies_2017.Region.unique()"
      ],
      "execution_count": 10,
      "outputs": [
        {
          "output_type": "execute_result",
          "data": {
            "text/plain": [
              "array(['Western Europe', 'North America', 'Australia and New Zealand',\n",
              "       'Middle East and Northern Africa', 'Latin America and Caribbean',\n",
              "       'Southeastern Asia', 'Central and Eastern Europe', 'Eastern Asia',\n",
              "       'Sub-Saharan Africa', 'Southern Asia'], dtype=object)"
            ]
          },
          "metadata": {
            "tags": []
          },
          "execution_count": 10
        }
      ]
    },
    {
      "cell_type": "code",
      "metadata": {
        "colab": {
          "base_uri": "https://localhost:8080/"
        },
        "id": "daPmBo9pxvwH",
        "outputId": "f3f7e3c4-0eef-4f9f-935a-43c700af128a"
      },
      "source": [
        "df_happinies_2018.Region.unique()"
      ],
      "execution_count": 11,
      "outputs": [
        {
          "output_type": "execute_result",
          "data": {
            "text/plain": [
              "array(['Western Europe', 'North America', 'Australia and New Zealand',\n",
              "       'Middle East and Northern Africa', 'Latin America and Caribbean',\n",
              "       'Southeastern Asia', 'Central and Eastern Europe', 'Eastern Asia',\n",
              "       'Sub-Saharan Africa', 'Southern Asia'], dtype=object)"
            ]
          },
          "metadata": {
            "tags": []
          },
          "execution_count": 11
        }
      ]
    },
    {
      "cell_type": "code",
      "metadata": {
        "colab": {
          "base_uri": "https://localhost:8080/"
        },
        "id": "ow9LwBzBxz37",
        "outputId": "1690872d-df09-4076-e8f4-ab30b51b34f9"
      },
      "source": [
        "df_happinies_2019.Region.unique()"
      ],
      "execution_count": 12,
      "outputs": [
        {
          "output_type": "execute_result",
          "data": {
            "text/plain": [
              "array(['Western Europe', 'North America', 'Australia and New Zealand',\n",
              "       'Middle East and Northern Africa', 'Latin America and Caribbean',\n",
              "       'Southeastern Asia', 'Central and Eastern Europe', 'Eastern Asia',\n",
              "       'Sub-Saharan Africa', 'Southern Asia'], dtype=object)"
            ]
          },
          "metadata": {
            "tags": []
          },
          "execution_count": 12
        }
      ]
    },
    {
      "cell_type": "code",
      "metadata": {
        "colab": {
          "base_uri": "https://localhost:8080/"
        },
        "id": "XquXAFo21rmH",
        "outputId": "a3c2f4e8-3024-4b62-c95b-a24632744f9d"
      },
      "source": [
        "X = df_happinies_2015.iloc[:, 2:5].values\r\n",
        "#print(X)\r\n",
        "X = df_happinies_2015.groupby(['Region']).mean()\r\n",
        "print(X.iloc[:,2:3])\r\n",
        "#df_happinies_2019[0:,]"
      ],
      "execution_count": 81,
      "outputs": [
        {
          "output_type": "stream",
          "text": [
            "                                 Happiness Score\n",
            "Region                                          \n",
            "Australia and New Zealand               7.285000\n",
            "Central and Eastern Europe              5.332931\n",
            "Eastern Asia                            5.626167\n",
            "Latin America and Caribbean             6.144682\n",
            "Middle East and Northern Africa         5.406900\n",
            "North America                           7.273000\n",
            "Southeastern Asia                       5.317444\n",
            "Southern Asia                           4.580857\n",
            "Sub-Saharan Africa                      4.202800\n",
            "Western Europe                          6.689619\n"
          ],
          "name": "stdout"
        }
      ]
    },
    {
      "cell_type": "code",
      "metadata": {
        "colab": {
          "base_uri": "https://localhost:8080/"
        },
        "id": "GnzMIOBMYtMY",
        "outputId": "05f542f5-8035-4cab-a137-2a8a15d94341"
      },
      "source": [
        "X = df_happinies_2016.iloc[:, 2:5].values\r\n",
        "#print(X)\r\n",
        "X = df_happinies_2016.groupby(['Region']).mean()\r\n",
        "print(X.iloc[:,2:3])\r\n",
        "#df_happinies_2019[0:,]"
      ],
      "execution_count": 82,
      "outputs": [
        {
          "output_type": "stream",
          "text": [
            "                                 Happiness Score\n",
            "Region                                          \n",
            "Australia and New Zealand               7.285000\n",
            "Central and Eastern Europe              5.332931\n",
            "Eastern Asia                            5.626167\n",
            "Latin America and Caribbean             6.144682\n",
            "Middle East and Northern Africa         5.406900\n",
            "North America                           7.273000\n",
            "Southeastern Asia                       5.317444\n",
            "Southern Asia                           4.580857\n",
            "Sub-Saharan Africa                      4.202800\n",
            "Western Europe                          6.689619\n"
          ],
          "name": "stdout"
        }
      ]
    },
    {
      "cell_type": "code",
      "metadata": {
        "colab": {
          "base_uri": "https://localhost:8080/"
        },
        "id": "hdEKj9pzYx8d",
        "outputId": "8c4e0c59-a14e-4efc-88c2-a0968866e41d"
      },
      "source": [
        "X = df_happinies_2017.iloc[:, 2:5].values\r\n",
        "#print(X)\r\n",
        "X = df_happinies_2017.groupby(['Region']).mean()\r\n",
        "print(X.iloc[:,2:3])\r\n",
        "#df_happinies_2019[0:,]"
      ],
      "execution_count": 83,
      "outputs": [
        {
          "output_type": "stream",
          "text": [
            "                                 Happiness Score\n",
            "Region                                          \n",
            "Australia and New Zealand               7.285000\n",
            "Central and Eastern Europe              5.332931\n",
            "Eastern Asia                            5.626167\n",
            "Latin America and Caribbean             6.144682\n",
            "Middle East and Northern Africa         5.406900\n",
            "North America                           7.273000\n",
            "Southeastern Asia                       5.317444\n",
            "Southern Asia                           4.580857\n",
            "Sub-Saharan Africa                      4.202800\n",
            "Western Europe                          6.689619\n"
          ],
          "name": "stdout"
        }
      ]
    },
    {
      "cell_type": "code",
      "metadata": {
        "colab": {
          "base_uri": "https://localhost:8080/"
        },
        "id": "RVo9F4mOY02O",
        "outputId": "5839444f-0d7d-4723-91af-fb0e6b8e37e5"
      },
      "source": [
        "X = df_happinies_2018.iloc[:, 2:5].values\r\n",
        "#print(X)\r\n",
        "X = df_happinies_2018.groupby(['Region']).mean()\r\n",
        "print(X.iloc[:,2:3])\r\n",
        "#df_happinies_2019[0:,]"
      ],
      "execution_count": 84,
      "outputs": [
        {
          "output_type": "stream",
          "text": [
            "                                 Happiness Score\n",
            "Region                                          \n",
            "Australia and New Zealand               7.285000\n",
            "Central and Eastern Europe              5.332931\n",
            "Eastern Asia                            5.626167\n",
            "Latin America and Caribbean             6.144682\n",
            "Middle East and Northern Africa         5.406900\n",
            "North America                           7.273000\n",
            "Southeastern Asia                       5.317444\n",
            "Southern Asia                           4.580857\n",
            "Sub-Saharan Africa                      4.202800\n",
            "Western Europe                          6.689619\n"
          ],
          "name": "stdout"
        }
      ]
    },
    {
      "cell_type": "code",
      "metadata": {
        "colab": {
          "base_uri": "https://localhost:8080/"
        },
        "id": "dHVX_VQ6FlQ0",
        "outputId": "e7775dd0-d0ff-42e7-c540-fc6cb202fe28"
      },
      "source": [
        "X = df_happinies_2019.iloc[:, 2:5].values\r\n",
        "#print(X)\r\n",
        "X = df_happinies_2019.groupby(['Region']).mean()\r\n",
        "X.iloc[0]\r\n",
        "print(X.iloc[:,2:3])\r\n",
        "#df_happinies_2019[0:,]"
      ],
      "execution_count": 50,
      "outputs": [
        {
          "output_type": "stream",
          "text": [
            "                                 Happiness Score\n",
            "Region                                          \n",
            "Australia and New Zealand               7.285000\n",
            "Central and Eastern Europe              5.332931\n",
            "Eastern Asia                            5.626167\n",
            "Latin America and Caribbean             6.144682\n",
            "Middle East and Northern Africa         5.406900\n",
            "North America                           7.273000\n",
            "Southeastern Asia                       5.317444\n",
            "Southern Asia                           4.580857\n",
            "Sub-Saharan Africa                      4.202800\n",
            "Western Europe                          6.689619\n"
          ],
          "name": "stdout"
        }
      ]
    },
    {
      "cell_type": "code",
      "metadata": {
        "colab": {
          "base_uri": "https://localhost:8080/"
        },
        "id": "8QH5ENqsY4Fg",
        "outputId": "5329442f-37aa-45c7-a3ee-9e2ff1c7f1e5"
      },
      "source": [
        "X = df_happinies_2019.iloc[:, 2:5].values\r\n",
        "#print(X)\r\n",
        "X = df_happinies_2019.groupby(['Region']).mean()\r\n",
        "print(X.iloc[:,2:3])\r\n",
        "#df_happinies_2019[0:,]"
      ],
      "execution_count": 85,
      "outputs": [
        {
          "output_type": "stream",
          "text": [
            "                                 Happiness Score\n",
            "Region                                          \n",
            "Australia and New Zealand               7.285000\n",
            "Central and Eastern Europe              5.332931\n",
            "Eastern Asia                            5.626167\n",
            "Latin America and Caribbean             6.144682\n",
            "Middle East and Northern Africa         5.406900\n",
            "North America                           7.273000\n",
            "Southeastern Asia                       5.317444\n",
            "Southern Asia                           4.580857\n",
            "Sub-Saharan Africa                      4.202800\n",
            "Western Europe                          6.689619\n"
          ],
          "name": "stdout"
        }
      ]
    },
    {
      "cell_type": "code",
      "metadata": {
        "colab": {
          "base_uri": "https://localhost:8080/",
          "height": 858
        },
        "id": "2jNtHoOQsOq-",
        "outputId": "e61c82b5-4a74-4b38-80c3-55172986ae3c"
      },
      "source": [
        "Regions = [\"Australia and New Zealand \" ,  \"Central and Eastern Europe\"   ,  \"Eastern Asia\"   , \"Latin America and Caribbean\"    ,        \r\n",
        "\"Middle East and Northern Africa\" ,  \"North America\"  , \" Southeastern Asia \",  \"Southern Asia\"  ,\"Sub-Saharan Africa\" , \"Western Europe\"   ] #a list holding the subjects' names\r\n",
        "Year = [\"2015\",\"2016\",\"2017\",\"2018\",\"2019\"]# a list of the academic years involved in the analysis\r\n",
        "Happiness_Scores= [[7.285000,7.285000,7.285000,7.285000,7.285000],\r\n",
        "                       [5.332931,5.332931 ,5.332931,  5.332931,5.332931],\r\n",
        "                        [5.626167,5.626167,5.626167,5.626167,5.626167],\r\n",
        "                         [6.144682,6.144682,6.144682,6.144682,6.144682],\r\n",
        "                      [5.406900,5.406900,5.406900,5.406900,5.406900],\r\n",
        "                      [7.273000,7.273000,7.273000,7.273000,7.273000],\r\n",
        "                      [5.317444,5.317444,5.317444,5.317444,5.317444],\r\n",
        "                      [4.580857,4.580857,4.580857,4.580857,4.580857,],\r\n",
        "                      [4.202800,4.202800,4.202800,4.202800,4.202800,],\r\n",
        "                      [6.689619,6.689619,6.689619,6.689619,6.689619]]#percentage of failure for each subject in each academic year\r\n",
        "\r\n",
        "fig,ax10 = plt.subplots(figsize=(15,10),dpi=100)#create a subplot\r\n",
        "heatMap = ax10.imshow(Happiness_Scores, cmap='cool')#use unshow to plot the data for the percentage failure\r\n",
        "ax10.set_xticks(np.arange(len(Year)))\r\n",
        "ax10.set_yticks(np.arange(len(Regions)))\r\n",
        "ax10.set_xticklabels(Year)#the academic years are on the x-axis\r\n",
        "ax10.set_yticklabels(Regions)#the subject names are on the y-axis\r\n",
        "ax10.set_title(\"Failure % Chart\")\r\n",
        "plt.setp(ax10.get_xticklabels(),rotation=45,ha=\"right\")\r\n",
        "\r\n",
        "for i in range(len(Regions)):\r\n",
        "    for j in range(len(Year)):\r\n",
        "        text = ax10.text(j,i,Happiness_Scores[i][j],ha=\"center\",va=\"center\")#here j is x and i is y\r\n"
      ],
      "execution_count": 107,
      "outputs": [
        {
          "output_type": "display_data",
          "data": {
            "image/png": "[encoded data removed]",
            "text/plain": [
              "<Figure size 1500x1000 with 1 Axes>"
            ]
          },
          "metadata": {
            "tags": [],
            "needs_background": "light"
          }
        }
      ]
    },
    {
      "cell_type": "markdown",
      "metadata": {
        "id": "9XqzeoK-o2F0"
      },
      "source": [
        "There's no change in the life health expectancy for each region over the years"
      ]
    },
    {
      "cell_type": "markdown",
      "metadata": {
        "id": "5XAL6s2ol2pG"
      },
      "source": [
        "#How does life expectancy change over years for each region\r\n"
      ]
    },
    {
      "cell_type": "code",
      "metadata": {
        "colab": {
          "base_uri": "https://localhost:8080/"
        },
        "id": "ciCMrUK4cydj",
        "outputId": "824a9e40-38fd-4a1c-efdb-45d165a49242"
      },
      "source": [
        "X = df_happinies_2015.iloc[:, 2:5].values\r\n",
        "#print(X)\r\n",
        "X = df_happinies_2015.groupby(['Region']).mean()\r\n",
        "print(X.iloc[:,6:7])\r\n",
        "#df_happinies_2019[0:,]"
      ],
      "execution_count": 98,
      "outputs": [
        {
          "output_type": "stream",
          "text": [
            "                                 Healthy life expectancy\n",
            "Region                                                  \n",
            "Australia and New Zealand                       0.919965\n",
            "Central and Eastern Europe                      0.718774\n",
            "Eastern Asia                                    0.877388\n",
            "Latin America and Caribbean                     0.703870\n",
            "Middle East and Northern Africa                 0.705616\n",
            "North America                                   0.883710\n",
            "Southeastern Asia                               0.677357\n",
            "Southern Asia                                   0.540830\n",
            "Sub-Saharan Africa                              0.409842\n",
            "Western Europe                                  0.909148\n"
          ],
          "name": "stdout"
        }
      ]
    },
    {
      "cell_type": "code",
      "metadata": {
        "colab": {
          "base_uri": "https://localhost:8080/"
        },
        "id": "cEyu3-zKdbya",
        "outputId": "c1664c16-102f-4380-86c6-d6d0cc535114"
      },
      "source": [
        "X = df_happinies_2016.iloc[:, 2:5].values\r\n",
        "#print(X)\r\n",
        "X = df_happinies_2016.groupby(['Region']).mean()\r\n",
        "print(X.iloc[:,6:7])\r\n",
        "#df_happinies_2019[0:,]"
      ],
      "execution_count": 99,
      "outputs": [
        {
          "output_type": "stream",
          "text": [
            "                                 Healthy life expectancy\n",
            "Region                                                  \n",
            "Australia and New Zealand                       0.919965\n",
            "Central and Eastern Europe                      0.718774\n",
            "Eastern Asia                                    0.877388\n",
            "Latin America and Caribbean                     0.703870\n",
            "Middle East and Northern Africa                 0.705616\n",
            "North America                                   0.883710\n",
            "Southeastern Asia                               0.677357\n",
            "Southern Asia                                   0.540830\n",
            "Sub-Saharan Africa                              0.409842\n",
            "Western Europe                                  0.909148\n"
          ],
          "name": "stdout"
        }
      ]
    },
    {
      "cell_type": "code",
      "metadata": {
        "colab": {
          "base_uri": "https://localhost:8080/"
        },
        "id": "Xw76WbUedtah",
        "outputId": "81bb0428-a1f0-4341-f548-b56cfce77016"
      },
      "source": [
        "X = df_happinies_2017.iloc[:, 2:5].values\r\n",
        "#print(X)\r\n",
        "X = df_happinies_2017.groupby(['Region']).mean()\r\n",
        "print(X.iloc[:,6:7])\r\n",
        "#df_happinies_2019[0:,]"
      ],
      "execution_count": 100,
      "outputs": [
        {
          "output_type": "stream",
          "text": [
            "                                 Healthy life expectancy\n",
            "Region                                                  \n",
            "Australia and New Zealand                       0.919965\n",
            "Central and Eastern Europe                      0.718774\n",
            "Eastern Asia                                    0.877388\n",
            "Latin America and Caribbean                     0.703870\n",
            "Middle East and Northern Africa                 0.705616\n",
            "North America                                   0.883710\n",
            "Southeastern Asia                               0.677357\n",
            "Southern Asia                                   0.540830\n",
            "Sub-Saharan Africa                              0.409842\n",
            "Western Europe                                  0.909148\n"
          ],
          "name": "stdout"
        }
      ]
    },
    {
      "cell_type": "code",
      "metadata": {
        "colab": {
          "base_uri": "https://localhost:8080/"
        },
        "id": "njjpytR1dwwM",
        "outputId": "f5d1d0cb-bc58-4e84-bb0f-a1f01d7a2339"
      },
      "source": [
        "X = df_happinies_2018.iloc[:, 2:5].values\r\n",
        "#print(X)\r\n",
        "X = df_happinies_2018.groupby(['Region']).mean()\r\n",
        "print(X.iloc[:,6:7])\r\n",
        "#df_happinies_2019[0:,]"
      ],
      "execution_count": 101,
      "outputs": [
        {
          "output_type": "stream",
          "text": [
            "                                 Healthy life expectancy\n",
            "Region                                                  \n",
            "Australia and New Zealand                       0.919965\n",
            "Central and Eastern Europe                      0.718774\n",
            "Eastern Asia                                    0.877388\n",
            "Latin America and Caribbean                     0.703870\n",
            "Middle East and Northern Africa                 0.705616\n",
            "North America                                   0.883710\n",
            "Southeastern Asia                               0.677357\n",
            "Southern Asia                                   0.540830\n",
            "Sub-Saharan Africa                              0.409842\n",
            "Western Europe                                  0.909148\n"
          ],
          "name": "stdout"
        }
      ]
    },
    {
      "cell_type": "code",
      "metadata": {
        "colab": {
          "base_uri": "https://localhost:8080/"
        },
        "id": "UKPwj9W1d03P",
        "outputId": "7292da3b-50cb-4171-a6fc-067c21c529f1"
      },
      "source": [
        "X = df_happinies_2019.iloc[:, 2:5].values\r\n",
        "#print(X)\r\n",
        "X = df_happinies_2019.groupby(['Region']).mean()\r\n",
        "print(X.iloc[:,6:7])\r\n",
        "#df_happinies_2019[0:,]"
      ],
      "execution_count": 102,
      "outputs": [
        {
          "output_type": "stream",
          "text": [
            "                                 Healthy life expectancy\n",
            "Region                                                  \n",
            "Australia and New Zealand                       0.919965\n",
            "Central and Eastern Europe                      0.718774\n",
            "Eastern Asia                                    0.877388\n",
            "Latin America and Caribbean                     0.703870\n",
            "Middle East and Northern Africa                 0.705616\n",
            "North America                                   0.883710\n",
            "Southeastern Asia                               0.677357\n",
            "Southern Asia                                   0.540830\n",
            "Sub-Saharan Africa                              0.409842\n",
            "Western Europe                                  0.909148\n"
          ],
          "name": "stdout"
        }
      ]
    },
    {
      "cell_type": "code",
      "metadata": {
        "colab": {
          "base_uri": "https://localhost:8080/",
          "height": 858
        },
        "id": "bj-14n5Zd3RJ",
        "outputId": "75d7bdd0-9213-4e14-b354-4a42e5bc5cfb"
      },
      "source": [
        "Regions = [\"Australia and New Zealand \" ,  \"Central and Eastern Europe\"   ,  \"Eastern Asia\"   , \"Latin America and Caribbean\"    ,        \r\n",
        "\"Middle East and Northern Africa\" ,  \"North America\"  , \" Southeastern Asia \",  \"Southern Asia\"  ,\"Sub-Saharan Africa\" , \"Western Europe\"   ] #a list holding the subjects' names\r\n",
        "Year = [\"2015\",\"2016\",\"2017\",\"2018\",\"2019\"]# a list of the academic years involved in the analysis\r\n",
        "HealthyLifeExpectancy= [[0.919965,0.919965,0.919965,0.919965,0.919965],\r\n",
        "                       [0.718774,0.718774 ,0.718774,  0.718774,0.718774],\r\n",
        "                        [0.877388,0.877388,0.877388,0.877388,0.877388],\r\n",
        "                         [0.703870,0.703870,0.703870,0.703870,0.703870],\r\n",
        "                      [ 0.705616, 0.705616, 0.705616, 0.705616, 0.705616],\r\n",
        "                      [0.883710,0.883710,0.883710,0.883710,0.883710],\r\n",
        "                      [0.677357,0.677357,0.677357,0.677357,0.677357],\r\n",
        "                      [0.540830,0.540830,0.540830,0.540830,0.540830,],\r\n",
        "                      [0.409842,0.409842,0.409842,0.409842,0.409842],\r\n",
        "                      [0.909148,0.909148,0.909148,0.909148,0.909148],\r\n",
        "                      \r\n",
        "                      ]#percentage of failure for each subject in each academic year\r\n",
        "\r\n",
        "fig,ax10 = plt.subplots(figsize=(15,10),dpi=100)#create a subplot\r\n",
        "heatMap = ax10.imshow(HealthyLifeExpectancy, cmap='cool')#use unshow to plot the data for the percentage failure\r\n",
        "ax10.set_xticks(np.arange(len(Year)))\r\n",
        "ax10.set_yticks(np.arange(len(Regions)))\r\n",
        "ax10.set_xticklabels(Year)#the academic years are on the x-axis\r\n",
        "ax10.set_yticklabels(Regions)#the subject names are on the y-axis\r\n",
        "ax10.set_title(\"Healthy life expectancy % Chart\")\r\n",
        "plt.setp(ax10.get_xticklabels(),rotation=45,ha=\"right\")\r\n",
        "\r\n",
        "for i in range(len(Regions)):\r\n",
        "    for j in range(len(Year)):\r\n",
        "        text = ax10.text(j,i,HealthyLifeExpectancy[i][j],ha=\"center\",va=\"center\")#here j is x and i is y\r\n"
      ],
      "execution_count": 108,
      "outputs": [
        {
          "output_type": "display_data",
          "data": {
            "image/png": "[encoded data removed]",
            "text/plain": [
              "<Figure size 1500x1000 with 1 Axes>"
            ]
          },
          "metadata": {
            "tags": [],
            "needs_background": "light"
          }
        }
      ]
    },
    {
      "cell_type": "markdown",
      "metadata": {
        "id": "VZItLprVoj8W"
      },
      "source": [
        "There's no change in the life health expectancy for each region over the years\r\n"
      ]
    }
  ]
}